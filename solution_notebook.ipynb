{
 "cells": [
  {
   "cell_type": "markdown",
   "id": "f4c424e4",
   "metadata": {},
   "source": [
    "## Solution Approach\n",
    "\n",
    "**Problem Statement** - To predict if an existing customer of a car insurance company will raise a claim in the upcoming 6 months or not.\n",
    "\n",
    "Below are the steps taken to find an optimized model for the given classification problem:\n",
    "\n",
    "* After loading the dataset and doing basic exploration, it is noticed that the event(claim raised by a customer) count is around 6%. Further, there are no missing values in the dataset.\n",
    "\n",
    "*  From basic EDA, it is found out that there are more categorical and binary features in the dataset compared to the numerical feature. Further, there is no significant linear relationship between any feature and target variable.\n",
    "\n",
    "*  The dataset is split into train and validation sets(90:10). The categorical variables are encoded using the WOE encoder.\n",
    "\n",
    "*  Tree-based models generally works well for this type of class imbalance problem. So, the LIGHTGBM algorithm is used with Randomized search.\n",
    "\n",
    "*  F1 score has been chosen as the evaluation metric as per the contest requirement. But, depending on the business setup, we can either use recall/precision as the evaluation metric. A detailed cost-benefit analysis of acquiring a customer vs claim payment needs to be done to solve the problem.\n",
    "\n",
    "*  After getting the optimal hypermeters from randomized and manual search, the LIGHTGBM model is fitted with the entire training dataset.\n",
    "\n",
    "*  F1 score on the validation set is 0.184 and the private score is 0.181.\n",
    "\n",
    "\n"
   ]
  },
  {
   "cell_type": "code",
   "execution_count": 1,
   "id": "72d904ab",
   "metadata": {},
   "outputs": [
    {
     "data": {
      "text/html": [
       "<style type='text/css'>\n",
       ".datatable table.frame { margin-bottom: 0; }\n",
       ".datatable table.frame thead { border-bottom: none; }\n",
       ".datatable table.frame tr.coltypes td {  color: #FFFFFF;  line-height: 6px;  padding: 0 0.5em;}\n",
       ".datatable .bool    { background: #DDDD99; }\n",
       ".datatable .object  { background: #565656; }\n",
       ".datatable .int     { background: #5D9E5D; }\n",
       ".datatable .float   { background: #4040CC; }\n",
       ".datatable .str     { background: #CC4040; }\n",
       ".datatable .time    { background: #40CC40; }\n",
       ".datatable .row_index {  background: var(--jp-border-color3);  border-right: 1px solid var(--jp-border-color0);  color: var(--jp-ui-font-color3);  font-size: 9px;}\n",
       ".datatable .frame tbody td { text-align: left; }\n",
       ".datatable .frame tr.coltypes .row_index {  background: var(--jp-border-color0);}\n",
       ".datatable th:nth-child(2) { padding-left: 12px; }\n",
       ".datatable .hellipsis {  color: var(--jp-cell-editor-border-color);}\n",
       ".datatable .vellipsis {  background: var(--jp-layout-color0);  color: var(--jp-cell-editor-border-color);}\n",
       ".datatable .na {  color: var(--jp-cell-editor-border-color);  font-size: 80%;}\n",
       ".datatable .sp {  opacity: 0.25;}\n",
       ".datatable .footer { font-size: 9px; }\n",
       ".datatable .frame_dimensions {  background: var(--jp-border-color3);  border-top: 1px solid var(--jp-border-color0);  color: var(--jp-ui-font-color3);  display: inline-block;  opacity: 0.6;  padding: 1px 10px 1px 5px;}\n",
       "</style>\n"
      ],
      "text/plain": [
       "<IPython.core.display.HTML object>"
      ]
     },
     "metadata": {},
     "output_type": "display_data"
    },
    {
     "name": "stderr",
     "output_type": "stream",
     "text": [
      "C:\\Users\\6006917\\AppData\\Local\\Continuum\\anaconda3\\lib\\site-packages\\dask\\dataframe\\utils.py:14: FutureWarning: pandas.util.testing is deprecated. Use the functions in the public API at pandas.testing instead.\n",
      "  import pandas.util.testing as tm\n"
     ]
    }
   ],
   "source": [
    "import numpy as np\n",
    "import pandas as pd\n",
    "\n",
    "pd.set_option('display.max_rows', None)\n",
    "pd.set_option('display.max_columns', None)\n",
    "\n",
    "import matplotlib.pyplot as plt\n",
    "import seaborn as sns\n",
    "\n",
    "from xverse.transformer import WOE\n",
    "from category_encoders.cat_boost import CatBoostEncoder\n",
    "from category_encoders.woe import WOEEncoder\n",
    "\n",
    "from sklearn.model_selection import train_test_split\n",
    "from sklearn.pipeline import Pipeline\n",
    "from catboost import CatBoostClassifier\n",
    "\n",
    "from sklearn.ensemble import RandomForestClassifier\n",
    "from xgboost import XGBClassifier\n",
    "from lightgbm import LGBMClassifier\n",
    "from sklearn.model_selection import RandomizedSearchCV, GridSearchCV\n",
    "from sklearn.metrics import classification_report, f1_score, confusion_matrix, ConfusionMatrixDisplay\n",
    "from statsmodels.stats.outliers_influence import variance_inflation_factor\n",
    "\n",
    "from scipy.stats import randint as sp_randint\n",
    "from scipy.stats import uniform as sp_uniform\n",
    "from sklearn.feature_selection import RFE"
   ]
  },
  {
   "cell_type": "code",
   "execution_count": 2,
   "id": "107efa7d",
   "metadata": {},
   "outputs": [],
   "source": [
    "%matplotlib inline"
   ]
  },
  {
   "cell_type": "markdown",
   "id": "203e38bb",
   "metadata": {},
   "source": [
    "### Load the dataset and do basic checks"
   ]
  },
  {
   "cell_type": "code",
   "execution_count": 3,
   "id": "356f9f91",
   "metadata": {},
   "outputs": [],
   "source": [
    "df = pd.read_csv('train_qWM28Yl.csv')\n",
    "oot = pd.read_csv('test_zo1G9sv.csv')"
   ]
  },
  {
   "cell_type": "code",
   "execution_count": 4,
   "id": "f00852d4",
   "metadata": {
    "scrolled": false
   },
   "outputs": [
    {
     "data": {
      "text/html": [
       "<div>\n",
       "<style scoped>\n",
       "    .dataframe tbody tr th:only-of-type {\n",
       "        vertical-align: middle;\n",
       "    }\n",
       "\n",
       "    .dataframe tbody tr th {\n",
       "        vertical-align: top;\n",
       "    }\n",
       "\n",
       "    .dataframe thead th {\n",
       "        text-align: right;\n",
       "    }\n",
       "</style>\n",
       "<table border=\"1\" class=\"dataframe\">\n",
       "  <thead>\n",
       "    <tr style=\"text-align: right;\">\n",
       "      <th></th>\n",
       "      <th>policy_id</th>\n",
       "      <th>policy_tenure</th>\n",
       "      <th>age_of_car</th>\n",
       "      <th>age_of_policyholder</th>\n",
       "      <th>area_cluster</th>\n",
       "      <th>population_density</th>\n",
       "      <th>make</th>\n",
       "      <th>segment</th>\n",
       "      <th>model</th>\n",
       "      <th>fuel_type</th>\n",
       "      <th>max_torque</th>\n",
       "      <th>max_power</th>\n",
       "      <th>engine_type</th>\n",
       "      <th>airbags</th>\n",
       "      <th>is_esc</th>\n",
       "      <th>is_adjustable_steering</th>\n",
       "      <th>is_tpms</th>\n",
       "      <th>is_parking_sensors</th>\n",
       "      <th>is_parking_camera</th>\n",
       "      <th>rear_brakes_type</th>\n",
       "      <th>displacement</th>\n",
       "      <th>cylinder</th>\n",
       "      <th>transmission_type</th>\n",
       "      <th>gear_box</th>\n",
       "      <th>steering_type</th>\n",
       "      <th>turning_radius</th>\n",
       "      <th>length</th>\n",
       "      <th>width</th>\n",
       "      <th>height</th>\n",
       "      <th>gross_weight</th>\n",
       "      <th>is_front_fog_lights</th>\n",
       "      <th>is_rear_window_wiper</th>\n",
       "      <th>is_rear_window_washer</th>\n",
       "      <th>is_rear_window_defogger</th>\n",
       "      <th>is_brake_assist</th>\n",
       "      <th>is_power_door_locks</th>\n",
       "      <th>is_central_locking</th>\n",
       "      <th>is_power_steering</th>\n",
       "      <th>is_driver_seat_height_adjustable</th>\n",
       "      <th>is_day_night_rear_view_mirror</th>\n",
       "      <th>is_ecw</th>\n",
       "      <th>is_speed_alert</th>\n",
       "      <th>ncap_rating</th>\n",
       "      <th>is_claim</th>\n",
       "    </tr>\n",
       "  </thead>\n",
       "  <tbody>\n",
       "    <tr>\n",
       "      <th>0</th>\n",
       "      <td>ID00001</td>\n",
       "      <td>0.515874</td>\n",
       "      <td>0.05</td>\n",
       "      <td>0.644231</td>\n",
       "      <td>C1</td>\n",
       "      <td>4990</td>\n",
       "      <td>1</td>\n",
       "      <td>A</td>\n",
       "      <td>M1</td>\n",
       "      <td>CNG</td>\n",
       "      <td>60Nm@3500rpm</td>\n",
       "      <td>40.36bhp@6000rpm</td>\n",
       "      <td>F8D Petrol Engine</td>\n",
       "      <td>2</td>\n",
       "      <td>No</td>\n",
       "      <td>No</td>\n",
       "      <td>No</td>\n",
       "      <td>Yes</td>\n",
       "      <td>No</td>\n",
       "      <td>Drum</td>\n",
       "      <td>796</td>\n",
       "      <td>3</td>\n",
       "      <td>Manual</td>\n",
       "      <td>5</td>\n",
       "      <td>Power</td>\n",
       "      <td>4.6</td>\n",
       "      <td>3445</td>\n",
       "      <td>1515</td>\n",
       "      <td>1475</td>\n",
       "      <td>1185</td>\n",
       "      <td>No</td>\n",
       "      <td>No</td>\n",
       "      <td>No</td>\n",
       "      <td>No</td>\n",
       "      <td>No</td>\n",
       "      <td>No</td>\n",
       "      <td>No</td>\n",
       "      <td>Yes</td>\n",
       "      <td>No</td>\n",
       "      <td>No</td>\n",
       "      <td>No</td>\n",
       "      <td>Yes</td>\n",
       "      <td>0</td>\n",
       "      <td>0</td>\n",
       "    </tr>\n",
       "    <tr>\n",
       "      <th>1</th>\n",
       "      <td>ID00002</td>\n",
       "      <td>0.672619</td>\n",
       "      <td>0.02</td>\n",
       "      <td>0.375000</td>\n",
       "      <td>C2</td>\n",
       "      <td>27003</td>\n",
       "      <td>1</td>\n",
       "      <td>A</td>\n",
       "      <td>M1</td>\n",
       "      <td>CNG</td>\n",
       "      <td>60Nm@3500rpm</td>\n",
       "      <td>40.36bhp@6000rpm</td>\n",
       "      <td>F8D Petrol Engine</td>\n",
       "      <td>2</td>\n",
       "      <td>No</td>\n",
       "      <td>No</td>\n",
       "      <td>No</td>\n",
       "      <td>Yes</td>\n",
       "      <td>No</td>\n",
       "      <td>Drum</td>\n",
       "      <td>796</td>\n",
       "      <td>3</td>\n",
       "      <td>Manual</td>\n",
       "      <td>5</td>\n",
       "      <td>Power</td>\n",
       "      <td>4.6</td>\n",
       "      <td>3445</td>\n",
       "      <td>1515</td>\n",
       "      <td>1475</td>\n",
       "      <td>1185</td>\n",
       "      <td>No</td>\n",
       "      <td>No</td>\n",
       "      <td>No</td>\n",
       "      <td>No</td>\n",
       "      <td>No</td>\n",
       "      <td>No</td>\n",
       "      <td>No</td>\n",
       "      <td>Yes</td>\n",
       "      <td>No</td>\n",
       "      <td>No</td>\n",
       "      <td>No</td>\n",
       "      <td>Yes</td>\n",
       "      <td>0</td>\n",
       "      <td>0</td>\n",
       "    </tr>\n",
       "    <tr>\n",
       "      <th>2</th>\n",
       "      <td>ID00003</td>\n",
       "      <td>0.841110</td>\n",
       "      <td>0.02</td>\n",
       "      <td>0.384615</td>\n",
       "      <td>C3</td>\n",
       "      <td>4076</td>\n",
       "      <td>1</td>\n",
       "      <td>A</td>\n",
       "      <td>M1</td>\n",
       "      <td>CNG</td>\n",
       "      <td>60Nm@3500rpm</td>\n",
       "      <td>40.36bhp@6000rpm</td>\n",
       "      <td>F8D Petrol Engine</td>\n",
       "      <td>2</td>\n",
       "      <td>No</td>\n",
       "      <td>No</td>\n",
       "      <td>No</td>\n",
       "      <td>Yes</td>\n",
       "      <td>No</td>\n",
       "      <td>Drum</td>\n",
       "      <td>796</td>\n",
       "      <td>3</td>\n",
       "      <td>Manual</td>\n",
       "      <td>5</td>\n",
       "      <td>Power</td>\n",
       "      <td>4.6</td>\n",
       "      <td>3445</td>\n",
       "      <td>1515</td>\n",
       "      <td>1475</td>\n",
       "      <td>1185</td>\n",
       "      <td>No</td>\n",
       "      <td>No</td>\n",
       "      <td>No</td>\n",
       "      <td>No</td>\n",
       "      <td>No</td>\n",
       "      <td>No</td>\n",
       "      <td>No</td>\n",
       "      <td>Yes</td>\n",
       "      <td>No</td>\n",
       "      <td>No</td>\n",
       "      <td>No</td>\n",
       "      <td>Yes</td>\n",
       "      <td>0</td>\n",
       "      <td>0</td>\n",
       "    </tr>\n",
       "    <tr>\n",
       "      <th>3</th>\n",
       "      <td>ID00004</td>\n",
       "      <td>0.900277</td>\n",
       "      <td>0.11</td>\n",
       "      <td>0.432692</td>\n",
       "      <td>C4</td>\n",
       "      <td>21622</td>\n",
       "      <td>1</td>\n",
       "      <td>C1</td>\n",
       "      <td>M2</td>\n",
       "      <td>Petrol</td>\n",
       "      <td>113Nm@4400rpm</td>\n",
       "      <td>88.50bhp@6000rpm</td>\n",
       "      <td>1.2 L K12N Dualjet</td>\n",
       "      <td>2</td>\n",
       "      <td>Yes</td>\n",
       "      <td>Yes</td>\n",
       "      <td>No</td>\n",
       "      <td>Yes</td>\n",
       "      <td>Yes</td>\n",
       "      <td>Drum</td>\n",
       "      <td>1197</td>\n",
       "      <td>4</td>\n",
       "      <td>Automatic</td>\n",
       "      <td>5</td>\n",
       "      <td>Electric</td>\n",
       "      <td>4.8</td>\n",
       "      <td>3995</td>\n",
       "      <td>1735</td>\n",
       "      <td>1515</td>\n",
       "      <td>1335</td>\n",
       "      <td>Yes</td>\n",
       "      <td>No</td>\n",
       "      <td>No</td>\n",
       "      <td>Yes</td>\n",
       "      <td>Yes</td>\n",
       "      <td>Yes</td>\n",
       "      <td>Yes</td>\n",
       "      <td>Yes</td>\n",
       "      <td>Yes</td>\n",
       "      <td>Yes</td>\n",
       "      <td>Yes</td>\n",
       "      <td>Yes</td>\n",
       "      <td>2</td>\n",
       "      <td>0</td>\n",
       "    </tr>\n",
       "    <tr>\n",
       "      <th>4</th>\n",
       "      <td>ID00005</td>\n",
       "      <td>0.596403</td>\n",
       "      <td>0.11</td>\n",
       "      <td>0.634615</td>\n",
       "      <td>C5</td>\n",
       "      <td>34738</td>\n",
       "      <td>2</td>\n",
       "      <td>A</td>\n",
       "      <td>M3</td>\n",
       "      <td>Petrol</td>\n",
       "      <td>91Nm@4250rpm</td>\n",
       "      <td>67.06bhp@5500rpm</td>\n",
       "      <td>1.0 SCe</td>\n",
       "      <td>2</td>\n",
       "      <td>No</td>\n",
       "      <td>No</td>\n",
       "      <td>No</td>\n",
       "      <td>No</td>\n",
       "      <td>Yes</td>\n",
       "      <td>Drum</td>\n",
       "      <td>999</td>\n",
       "      <td>3</td>\n",
       "      <td>Automatic</td>\n",
       "      <td>5</td>\n",
       "      <td>Electric</td>\n",
       "      <td>5.0</td>\n",
       "      <td>3731</td>\n",
       "      <td>1579</td>\n",
       "      <td>1490</td>\n",
       "      <td>1155</td>\n",
       "      <td>No</td>\n",
       "      <td>No</td>\n",
       "      <td>No</td>\n",
       "      <td>No</td>\n",
       "      <td>No</td>\n",
       "      <td>Yes</td>\n",
       "      <td>Yes</td>\n",
       "      <td>Yes</td>\n",
       "      <td>No</td>\n",
       "      <td>Yes</td>\n",
       "      <td>Yes</td>\n",
       "      <td>Yes</td>\n",
       "      <td>2</td>\n",
       "      <td>0</td>\n",
       "    </tr>\n",
       "  </tbody>\n",
       "</table>\n",
       "</div>"
      ],
      "text/plain": [
       "  policy_id  policy_tenure  age_of_car  age_of_policyholder area_cluster  \\\n",
       "0   ID00001       0.515874        0.05             0.644231           C1   \n",
       "1   ID00002       0.672619        0.02             0.375000           C2   \n",
       "2   ID00003       0.841110        0.02             0.384615           C3   \n",
       "3   ID00004       0.900277        0.11             0.432692           C4   \n",
       "4   ID00005       0.596403        0.11             0.634615           C5   \n",
       "\n",
       "   population_density  make segment model fuel_type     max_torque  \\\n",
       "0                4990     1       A    M1       CNG   60Nm@3500rpm   \n",
       "1               27003     1       A    M1       CNG   60Nm@3500rpm   \n",
       "2                4076     1       A    M1       CNG   60Nm@3500rpm   \n",
       "3               21622     1      C1    M2    Petrol  113Nm@4400rpm   \n",
       "4               34738     2       A    M3    Petrol   91Nm@4250rpm   \n",
       "\n",
       "          max_power         engine_type  airbags is_esc  \\\n",
       "0  40.36bhp@6000rpm   F8D Petrol Engine        2     No   \n",
       "1  40.36bhp@6000rpm   F8D Petrol Engine        2     No   \n",
       "2  40.36bhp@6000rpm   F8D Petrol Engine        2     No   \n",
       "3  88.50bhp@6000rpm  1.2 L K12N Dualjet        2    Yes   \n",
       "4  67.06bhp@5500rpm             1.0 SCe        2     No   \n",
       "\n",
       "  is_adjustable_steering is_tpms is_parking_sensors is_parking_camera  \\\n",
       "0                     No      No                Yes                No   \n",
       "1                     No      No                Yes                No   \n",
       "2                     No      No                Yes                No   \n",
       "3                    Yes      No                Yes               Yes   \n",
       "4                     No      No                 No               Yes   \n",
       "\n",
       "  rear_brakes_type  displacement  cylinder transmission_type  gear_box  \\\n",
       "0             Drum           796         3            Manual         5   \n",
       "1             Drum           796         3            Manual         5   \n",
       "2             Drum           796         3            Manual         5   \n",
       "3             Drum          1197         4         Automatic         5   \n",
       "4             Drum           999         3         Automatic         5   \n",
       "\n",
       "  steering_type  turning_radius  length  width  height  gross_weight  \\\n",
       "0         Power             4.6    3445   1515    1475          1185   \n",
       "1         Power             4.6    3445   1515    1475          1185   \n",
       "2         Power             4.6    3445   1515    1475          1185   \n",
       "3      Electric             4.8    3995   1735    1515          1335   \n",
       "4      Electric             5.0    3731   1579    1490          1155   \n",
       "\n",
       "  is_front_fog_lights is_rear_window_wiper is_rear_window_washer  \\\n",
       "0                  No                   No                    No   \n",
       "1                  No                   No                    No   \n",
       "2                  No                   No                    No   \n",
       "3                 Yes                   No                    No   \n",
       "4                  No                   No                    No   \n",
       "\n",
       "  is_rear_window_defogger is_brake_assist is_power_door_locks  \\\n",
       "0                      No              No                  No   \n",
       "1                      No              No                  No   \n",
       "2                      No              No                  No   \n",
       "3                     Yes             Yes                 Yes   \n",
       "4                      No              No                 Yes   \n",
       "\n",
       "  is_central_locking is_power_steering is_driver_seat_height_adjustable  \\\n",
       "0                 No               Yes                               No   \n",
       "1                 No               Yes                               No   \n",
       "2                 No               Yes                               No   \n",
       "3                Yes               Yes                              Yes   \n",
       "4                Yes               Yes                               No   \n",
       "\n",
       "  is_day_night_rear_view_mirror is_ecw is_speed_alert  ncap_rating  is_claim  \n",
       "0                            No     No            Yes            0         0  \n",
       "1                            No     No            Yes            0         0  \n",
       "2                            No     No            Yes            0         0  \n",
       "3                           Yes    Yes            Yes            2         0  \n",
       "4                           Yes    Yes            Yes            2         0  "
      ]
     },
     "execution_count": 4,
     "metadata": {},
     "output_type": "execute_result"
    }
   ],
   "source": [
    "df.head()"
   ]
  },
  {
   "cell_type": "code",
   "execution_count": 5,
   "id": "c5048a8b",
   "metadata": {},
   "outputs": [
    {
     "data": {
      "text/plain": [
       "(58592, 44)"
      ]
     },
     "execution_count": 5,
     "metadata": {},
     "output_type": "execute_result"
    }
   ],
   "source": [
    "df.shape"
   ]
  },
  {
   "cell_type": "code",
   "execution_count": 6,
   "id": "b56592e5",
   "metadata": {},
   "outputs": [
    {
     "data": {
      "text/plain": [
       "0"
      ]
     },
     "execution_count": 6,
     "metadata": {},
     "output_type": "execute_result"
    }
   ],
   "source": [
    "# check for duplicate IDs\n",
    "df['policy_id'].duplicated().sum()"
   ]
  },
  {
   "cell_type": "code",
   "execution_count": 7,
   "id": "4a47122d",
   "metadata": {
    "scrolled": true
   },
   "outputs": [
    {
     "name": "stdout",
     "output_type": "stream",
     "text": [
      "<class 'pandas.core.frame.DataFrame'>\n",
      "RangeIndex: 58592 entries, 0 to 58591\n",
      "Data columns (total 44 columns):\n",
      " #   Column                            Non-Null Count  Dtype  \n",
      "---  ------                            --------------  -----  \n",
      " 0   policy_id                         58592 non-null  object \n",
      " 1   policy_tenure                     58592 non-null  float64\n",
      " 2   age_of_car                        58592 non-null  float64\n",
      " 3   age_of_policyholder               58592 non-null  float64\n",
      " 4   area_cluster                      58592 non-null  object \n",
      " 5   population_density                58592 non-null  int64  \n",
      " 6   make                              58592 non-null  int64  \n",
      " 7   segment                           58592 non-null  object \n",
      " 8   model                             58592 non-null  object \n",
      " 9   fuel_type                         58592 non-null  object \n",
      " 10  max_torque                        58592 non-null  object \n",
      " 11  max_power                         58592 non-null  object \n",
      " 12  engine_type                       58592 non-null  object \n",
      " 13  airbags                           58592 non-null  int64  \n",
      " 14  is_esc                            58592 non-null  object \n",
      " 15  is_adjustable_steering            58592 non-null  object \n",
      " 16  is_tpms                           58592 non-null  object \n",
      " 17  is_parking_sensors                58592 non-null  object \n",
      " 18  is_parking_camera                 58592 non-null  object \n",
      " 19  rear_brakes_type                  58592 non-null  object \n",
      " 20  displacement                      58592 non-null  int64  \n",
      " 21  cylinder                          58592 non-null  int64  \n",
      " 22  transmission_type                 58592 non-null  object \n",
      " 23  gear_box                          58592 non-null  int64  \n",
      " 24  steering_type                     58592 non-null  object \n",
      " 25  turning_radius                    58592 non-null  float64\n",
      " 26  length                            58592 non-null  int64  \n",
      " 27  width                             58592 non-null  int64  \n",
      " 28  height                            58592 non-null  int64  \n",
      " 29  gross_weight                      58592 non-null  int64  \n",
      " 30  is_front_fog_lights               58592 non-null  object \n",
      " 31  is_rear_window_wiper              58592 non-null  object \n",
      " 32  is_rear_window_washer             58592 non-null  object \n",
      " 33  is_rear_window_defogger           58592 non-null  object \n",
      " 34  is_brake_assist                   58592 non-null  object \n",
      " 35  is_power_door_locks               58592 non-null  object \n",
      " 36  is_central_locking                58592 non-null  object \n",
      " 37  is_power_steering                 58592 non-null  object \n",
      " 38  is_driver_seat_height_adjustable  58592 non-null  object \n",
      " 39  is_day_night_rear_view_mirror     58592 non-null  object \n",
      " 40  is_ecw                            58592 non-null  object \n",
      " 41  is_speed_alert                    58592 non-null  object \n",
      " 42  ncap_rating                       58592 non-null  int64  \n",
      " 43  is_claim                          58592 non-null  int64  \n",
      "dtypes: float64(4), int64(12), object(28)\n",
      "memory usage: 19.7+ MB\n"
     ]
    }
   ],
   "source": [
    "df.info()"
   ]
  },
  {
   "cell_type": "code",
   "execution_count": 8,
   "id": "42c5237b",
   "metadata": {
    "scrolled": true
   },
   "outputs": [
    {
     "data": {
      "text/plain": [
       "0    0.936032\n",
       "1    0.063968\n",
       "Name: is_claim, dtype: float64"
      ]
     },
     "execution_count": 8,
     "metadata": {},
     "output_type": "execute_result"
    }
   ],
   "source": [
    "df['is_claim'].value_counts(normalize = True)"
   ]
  },
  {
   "cell_type": "code",
   "execution_count": 9,
   "id": "d8984d59",
   "metadata": {},
   "outputs": [
    {
     "data": {
      "text/html": [
       "<div>\n",
       "<style scoped>\n",
       "    .dataframe tbody tr th:only-of-type {\n",
       "        vertical-align: middle;\n",
       "    }\n",
       "\n",
       "    .dataframe tbody tr th {\n",
       "        vertical-align: top;\n",
       "    }\n",
       "\n",
       "    .dataframe thead th {\n",
       "        text-align: right;\n",
       "    }\n",
       "</style>\n",
       "<table border=\"1\" class=\"dataframe\">\n",
       "  <thead>\n",
       "    <tr style=\"text-align: right;\">\n",
       "      <th></th>\n",
       "      <th>policy_tenure</th>\n",
       "      <th>age_of_car</th>\n",
       "      <th>age_of_policyholder</th>\n",
       "      <th>population_density</th>\n",
       "      <th>make</th>\n",
       "      <th>airbags</th>\n",
       "      <th>displacement</th>\n",
       "      <th>cylinder</th>\n",
       "      <th>gear_box</th>\n",
       "      <th>turning_radius</th>\n",
       "      <th>length</th>\n",
       "      <th>width</th>\n",
       "      <th>height</th>\n",
       "      <th>gross_weight</th>\n",
       "      <th>ncap_rating</th>\n",
       "      <th>is_claim</th>\n",
       "    </tr>\n",
       "  </thead>\n",
       "  <tbody>\n",
       "    <tr>\n",
       "      <th>count</th>\n",
       "      <td>58592.000000</td>\n",
       "      <td>58592.000000</td>\n",
       "      <td>58592.000000</td>\n",
       "      <td>58592.000000</td>\n",
       "      <td>58592.000000</td>\n",
       "      <td>58592.000000</td>\n",
       "      <td>58592.000000</td>\n",
       "      <td>58592.000000</td>\n",
       "      <td>58592.000000</td>\n",
       "      <td>58592.000000</td>\n",
       "      <td>58592.000000</td>\n",
       "      <td>58592.000000</td>\n",
       "      <td>58592.00000</td>\n",
       "      <td>58592.000000</td>\n",
       "      <td>58592.000000</td>\n",
       "      <td>58592.000000</td>\n",
       "    </tr>\n",
       "    <tr>\n",
       "      <th>mean</th>\n",
       "      <td>0.611246</td>\n",
       "      <td>0.069424</td>\n",
       "      <td>0.469420</td>\n",
       "      <td>18826.858667</td>\n",
       "      <td>1.763722</td>\n",
       "      <td>3.137066</td>\n",
       "      <td>1162.355851</td>\n",
       "      <td>3.626963</td>\n",
       "      <td>5.245443</td>\n",
       "      <td>4.852893</td>\n",
       "      <td>3850.476891</td>\n",
       "      <td>1672.233667</td>\n",
       "      <td>1553.33537</td>\n",
       "      <td>1385.276813</td>\n",
       "      <td>1.759950</td>\n",
       "      <td>0.063968</td>\n",
       "    </tr>\n",
       "    <tr>\n",
       "      <th>std</th>\n",
       "      <td>0.414156</td>\n",
       "      <td>0.056721</td>\n",
       "      <td>0.122886</td>\n",
       "      <td>17660.174792</td>\n",
       "      <td>1.136988</td>\n",
       "      <td>1.832641</td>\n",
       "      <td>266.304786</td>\n",
       "      <td>0.483616</td>\n",
       "      <td>0.430353</td>\n",
       "      <td>0.228061</td>\n",
       "      <td>311.457119</td>\n",
       "      <td>112.089135</td>\n",
       "      <td>79.62227</td>\n",
       "      <td>212.423085</td>\n",
       "      <td>1.389576</td>\n",
       "      <td>0.244698</td>\n",
       "    </tr>\n",
       "    <tr>\n",
       "      <th>min</th>\n",
       "      <td>0.002735</td>\n",
       "      <td>0.000000</td>\n",
       "      <td>0.288462</td>\n",
       "      <td>290.000000</td>\n",
       "      <td>1.000000</td>\n",
       "      <td>1.000000</td>\n",
       "      <td>796.000000</td>\n",
       "      <td>3.000000</td>\n",
       "      <td>5.000000</td>\n",
       "      <td>4.500000</td>\n",
       "      <td>3445.000000</td>\n",
       "      <td>1475.000000</td>\n",
       "      <td>1475.00000</td>\n",
       "      <td>1051.000000</td>\n",
       "      <td>0.000000</td>\n",
       "      <td>0.000000</td>\n",
       "    </tr>\n",
       "    <tr>\n",
       "      <th>25%</th>\n",
       "      <td>0.210250</td>\n",
       "      <td>0.020000</td>\n",
       "      <td>0.365385</td>\n",
       "      <td>6112.000000</td>\n",
       "      <td>1.000000</td>\n",
       "      <td>2.000000</td>\n",
       "      <td>796.000000</td>\n",
       "      <td>3.000000</td>\n",
       "      <td>5.000000</td>\n",
       "      <td>4.600000</td>\n",
       "      <td>3445.000000</td>\n",
       "      <td>1515.000000</td>\n",
       "      <td>1475.00000</td>\n",
       "      <td>1185.000000</td>\n",
       "      <td>0.000000</td>\n",
       "      <td>0.000000</td>\n",
       "    </tr>\n",
       "    <tr>\n",
       "      <th>50%</th>\n",
       "      <td>0.573792</td>\n",
       "      <td>0.060000</td>\n",
       "      <td>0.451923</td>\n",
       "      <td>8794.000000</td>\n",
       "      <td>1.000000</td>\n",
       "      <td>2.000000</td>\n",
       "      <td>1197.000000</td>\n",
       "      <td>4.000000</td>\n",
       "      <td>5.000000</td>\n",
       "      <td>4.800000</td>\n",
       "      <td>3845.000000</td>\n",
       "      <td>1735.000000</td>\n",
       "      <td>1530.00000</td>\n",
       "      <td>1335.000000</td>\n",
       "      <td>2.000000</td>\n",
       "      <td>0.000000</td>\n",
       "    </tr>\n",
       "    <tr>\n",
       "      <th>75%</th>\n",
       "      <td>1.039104</td>\n",
       "      <td>0.110000</td>\n",
       "      <td>0.548077</td>\n",
       "      <td>27003.000000</td>\n",
       "      <td>3.000000</td>\n",
       "      <td>6.000000</td>\n",
       "      <td>1493.000000</td>\n",
       "      <td>4.000000</td>\n",
       "      <td>5.000000</td>\n",
       "      <td>5.000000</td>\n",
       "      <td>3995.000000</td>\n",
       "      <td>1755.000000</td>\n",
       "      <td>1635.00000</td>\n",
       "      <td>1510.000000</td>\n",
       "      <td>3.000000</td>\n",
       "      <td>0.000000</td>\n",
       "    </tr>\n",
       "    <tr>\n",
       "      <th>max</th>\n",
       "      <td>1.396641</td>\n",
       "      <td>1.000000</td>\n",
       "      <td>1.000000</td>\n",
       "      <td>73430.000000</td>\n",
       "      <td>5.000000</td>\n",
       "      <td>6.000000</td>\n",
       "      <td>1498.000000</td>\n",
       "      <td>4.000000</td>\n",
       "      <td>6.000000</td>\n",
       "      <td>5.200000</td>\n",
       "      <td>4300.000000</td>\n",
       "      <td>1811.000000</td>\n",
       "      <td>1825.00000</td>\n",
       "      <td>1720.000000</td>\n",
       "      <td>5.000000</td>\n",
       "      <td>1.000000</td>\n",
       "    </tr>\n",
       "  </tbody>\n",
       "</table>\n",
       "</div>"
      ],
      "text/plain": [
       "       policy_tenure    age_of_car  age_of_policyholder  population_density  \\\n",
       "count   58592.000000  58592.000000         58592.000000        58592.000000   \n",
       "mean        0.611246      0.069424             0.469420        18826.858667   \n",
       "std         0.414156      0.056721             0.122886        17660.174792   \n",
       "min         0.002735      0.000000             0.288462          290.000000   \n",
       "25%         0.210250      0.020000             0.365385         6112.000000   \n",
       "50%         0.573792      0.060000             0.451923         8794.000000   \n",
       "75%         1.039104      0.110000             0.548077        27003.000000   \n",
       "max         1.396641      1.000000             1.000000        73430.000000   \n",
       "\n",
       "               make       airbags  displacement      cylinder      gear_box  \\\n",
       "count  58592.000000  58592.000000  58592.000000  58592.000000  58592.000000   \n",
       "mean       1.763722      3.137066   1162.355851      3.626963      5.245443   \n",
       "std        1.136988      1.832641    266.304786      0.483616      0.430353   \n",
       "min        1.000000      1.000000    796.000000      3.000000      5.000000   \n",
       "25%        1.000000      2.000000    796.000000      3.000000      5.000000   \n",
       "50%        1.000000      2.000000   1197.000000      4.000000      5.000000   \n",
       "75%        3.000000      6.000000   1493.000000      4.000000      5.000000   \n",
       "max        5.000000      6.000000   1498.000000      4.000000      6.000000   \n",
       "\n",
       "       turning_radius        length         width       height  gross_weight  \\\n",
       "count    58592.000000  58592.000000  58592.000000  58592.00000  58592.000000   \n",
       "mean         4.852893   3850.476891   1672.233667   1553.33537   1385.276813   \n",
       "std          0.228061    311.457119    112.089135     79.62227    212.423085   \n",
       "min          4.500000   3445.000000   1475.000000   1475.00000   1051.000000   \n",
       "25%          4.600000   3445.000000   1515.000000   1475.00000   1185.000000   \n",
       "50%          4.800000   3845.000000   1735.000000   1530.00000   1335.000000   \n",
       "75%          5.000000   3995.000000   1755.000000   1635.00000   1510.000000   \n",
       "max          5.200000   4300.000000   1811.000000   1825.00000   1720.000000   \n",
       "\n",
       "        ncap_rating      is_claim  \n",
       "count  58592.000000  58592.000000  \n",
       "mean       1.759950      0.063968  \n",
       "std        1.389576      0.244698  \n",
       "min        0.000000      0.000000  \n",
       "25%        0.000000      0.000000  \n",
       "50%        2.000000      0.000000  \n",
       "75%        3.000000      0.000000  \n",
       "max        5.000000      1.000000  "
      ]
     },
     "execution_count": 9,
     "metadata": {},
     "output_type": "execute_result"
    }
   ],
   "source": [
    "df.describe()"
   ]
  },
  {
   "cell_type": "markdown",
   "id": "a911ad6e",
   "metadata": {},
   "source": [
    "### EDA"
   ]
  },
  {
   "cell_type": "code",
   "execution_count": 10,
   "id": "3831849a",
   "metadata": {
    "scrolled": true
   },
   "outputs": [
    {
     "data": {
      "image/png": "[encoded data removed]",
      "text/plain": [
       "<Figure size 432x288 with 1 Axes>"
      ]
     },
     "metadata": {
      "needs_background": "light"
     },
     "output_type": "display_data"
    }
   ],
   "source": [
    "sns.boxplot(x = 'is_claim', y = 'policy_tenure', data = df)\n",
    "plt.show()"
   ]
  },
  {
   "cell_type": "code",
   "execution_count": 11,
   "id": "1ddd4f04",
   "metadata": {
    "scrolled": true
   },
   "outputs": [
    {
     "data": {
      "text/plain": [
       "<AxesSubplot:xlabel='is_claim', ylabel='age_of_car'>"
      ]
     },
     "execution_count": 11,
     "metadata": {},
     "output_type": "execute_result"
    },
    {
     "data": {
      "image/png": "[encoded data removed]",
      "text/plain": [
       "<Figure size 432x288 with 1 Axes>"
      ]
     },
     "metadata": {
      "needs_background": "light"
     },
     "output_type": "display_data"
    }
   ],
   "source": [
    "sns.boxplot(x = 'is_claim', y = 'age_of_car', data = df)"
   ]
  },
  {
   "cell_type": "code",
   "execution_count": 12,
   "id": "d219f473",
   "metadata": {},
   "outputs": [
    {
     "data": {
      "text/plain": [
       "<AxesSubplot:xlabel='is_claim', ylabel='age_of_policyholder'>"
      ]
     },
     "execution_count": 12,
     "metadata": {},
     "output_type": "execute_result"
    },
    {
     "data": {
      "image/png": "[encoded data removed]",
      "text/plain": [
       "<Figure size 432x288 with 1 Axes>"
      ]
     },
     "metadata": {
      "needs_background": "light"
     },
     "output_type": "display_data"
    }
   ],
   "source": [
    "sns.boxplot(x = 'is_claim', y = 'age_of_policyholder', data = df)"
   ]
  },
  {
   "cell_type": "code",
   "execution_count": 13,
   "id": "22d379c0",
   "metadata": {
    "scrolled": true
   },
   "outputs": [
    {
     "data": {
      "text/plain": [
       "<AxesSubplot:xlabel='area_cluster', ylabel='Density'>"
      ]
     },
     "execution_count": 13,
     "metadata": {},
     "output_type": "execute_result"
    },
    {
     "data": {
      "image/png": "[encoded data removed]",
      "text/plain": [
       "<Figure size 864x720 with 1 Axes>"
      ]
     },
     "metadata": {
      "needs_background": "light"
     },
     "output_type": "display_data"
    }
   ],
   "source": [
    "plt.figure(figsize = (12,10))\n",
    "sns.histplot(x = 'area_cluster', hue = 'is_claim', data = df, multiple = 'stack', stat = 'density', common_norm=False)"
   ]
  },
  {
   "cell_type": "code",
   "execution_count": 14,
   "id": "f266761e",
   "metadata": {},
   "outputs": [
    {
     "data": {
      "text/plain": [
       "<AxesSubplot:xlabel='is_claim', ylabel='population_density'>"
      ]
     },
     "execution_count": 14,
     "metadata": {},
     "output_type": "execute_result"
    },
    {
     "data": {
      "image/png": "[encoded data removed]",
      "text/plain": [
       "<Figure size 432x288 with 1 Axes>"
      ]
     },
     "metadata": {
      "needs_background": "light"
     },
     "output_type": "display_data"
    }
   ],
   "source": [
    "sns.boxplot(x = 'is_claim', y = 'population_density', data = df)"
   ]
  },
  {
   "cell_type": "code",
   "execution_count": 15,
   "id": "bdd17023",
   "metadata": {},
   "outputs": [
    {
     "data": {
      "text/plain": [
       "<AxesSubplot:xlabel='make', ylabel='Density'>"
      ]
     },
     "execution_count": 15,
     "metadata": {},
     "output_type": "execute_result"
    },
    {
     "data": {
      "image/png": "[encoded data removed]",
      "text/plain": [
       "<Figure size 864x720 with 1 Axes>"
      ]
     },
     "metadata": {
      "needs_background": "light"
     },
     "output_type": "display_data"
    }
   ],
   "source": [
    "df['make'] = df['make'].astype('category')\n",
    "plt.figure(figsize = (12,10))\n",
    "sns.histplot(x = 'make', hue = 'is_claim', data = df, multiple = 'stack', stat = 'density', common_norm=False)"
   ]
  },
  {
   "cell_type": "code",
   "execution_count": 16,
   "id": "e705881a",
   "metadata": {
    "scrolled": true
   },
   "outputs": [
    {
     "data": {
      "text/plain": [
       "<AxesSubplot:xlabel='segment', ylabel='Density'>"
      ]
     },
     "execution_count": 16,
     "metadata": {},
     "output_type": "execute_result"
    },
    {
     "data": {
      "image/png": "[encoded data removed]",
      "text/plain": [
       "<Figure size 864x720 with 1 Axes>"
      ]
     },
     "metadata": {
      "needs_background": "light"
     },
     "output_type": "display_data"
    }
   ],
   "source": [
    "plt.figure(figsize = (12,10))\n",
    "sns.histplot(x = 'segment', hue = 'is_claim', data = df, multiple = 'stack', stat = 'density', common_norm=False)"
   ]
  },
  {
   "cell_type": "code",
   "execution_count": 17,
   "id": "196a3258",
   "metadata": {
    "scrolled": true
   },
   "outputs": [
    {
     "data": {
      "text/plain": [
       "<AxesSubplot:xlabel='model', ylabel='Density'>"
      ]
     },
     "execution_count": 17,
     "metadata": {},
     "output_type": "execute_result"
    },
    {
     "data": {
      "image/png": "[encoded data removed]",
      "text/plain": [
       "<Figure size 864x720 with 1 Axes>"
      ]
     },
     "metadata": {
      "needs_background": "light"
     },
     "output_type": "display_data"
    }
   ],
   "source": [
    "plt.figure(figsize = (12,10))\n",
    "sns.histplot(x = 'model', hue = 'is_claim', data = df, multiple = 'stack', stat = 'density', common_norm=False)"
   ]
  },
  {
   "cell_type": "code",
   "execution_count": 18,
   "id": "998c29c5",
   "metadata": {
    "scrolled": true
   },
   "outputs": [
    {
     "data": {
      "text/plain": [
       "<AxesSubplot:xlabel='fuel_type', ylabel='Density'>"
      ]
     },
     "execution_count": 18,
     "metadata": {},
     "output_type": "execute_result"
    },
    {
     "data": {
      "image/png": "[encoded data removed]",
      "text/plain": [
       "<Figure size 864x720 with 1 Axes>"
      ]
     },
     "metadata": {
      "needs_background": "light"
     },
     "output_type": "display_data"
    }
   ],
   "source": [
    "plt.figure(figsize = (12,10))\n",
    "sns.histplot(x = 'fuel_type', hue = 'is_claim', data = df, multiple = 'stack', stat = 'density', common_norm=False)"
   ]
  },
  {
   "cell_type": "code",
   "execution_count": 19,
   "id": "da7afc12",
   "metadata": {
    "scrolled": false
   },
   "outputs": [
    {
     "data": {
      "text/plain": [
       "<AxesSubplot:xlabel='max_torque', ylabel='Density'>"
      ]
     },
     "execution_count": 19,
     "metadata": {},
     "output_type": "execute_result"
    },
    {
     "data": {
      "image/png": "[encoded data removed]",
      "text/plain": [
       "<Figure size 1080x720 with 1 Axes>"
      ]
     },
     "metadata": {
      "needs_background": "light"
     },
     "output_type": "display_data"
    }
   ],
   "source": [
    "plt.figure(figsize = (15,10))\n",
    "sns.histplot(x = 'max_torque', hue = 'is_claim', data = df, multiple = 'stack', stat = 'density', common_norm=False)"
   ]
  },
  {
   "cell_type": "code",
   "execution_count": 20,
   "id": "77d4a295",
   "metadata": {},
   "outputs": [
    {
     "data": {
      "text/plain": [
       "<AxesSubplot:xlabel='max_power', ylabel='Density'>"
      ]
     },
     "execution_count": 20,
     "metadata": {},
     "output_type": "execute_result"
    },
    {
     "data": {
      "image/png": "[encoded data removed]",
      "text/plain": [
       "<Figure size 1080x720 with 1 Axes>"
      ]
     },
     "metadata": {
      "needs_background": "light"
     },
     "output_type": "display_data"
    }
   ],
   "source": [
    "plt.figure(figsize = (15,10))\n",
    "sns.histplot(x = 'max_power', hue = 'is_claim', data = df, multiple = 'stack', stat = 'density', common_norm=False)"
   ]
  },
  {
   "cell_type": "code",
   "execution_count": 21,
   "id": "874305e6",
   "metadata": {
    "scrolled": true
   },
   "outputs": [
    {
     "data": {
      "text/plain": [
       "<AxesSubplot:xlabel='engine_type', ylabel='Density'>"
      ]
     },
     "execution_count": 21,
     "metadata": {},
     "output_type": "execute_result"
    },
    {
     "data": {
      "image/png": "[encoded data removed]",
      "text/plain": [
       "<Figure size 1080x720 with 1 Axes>"
      ]
     },
     "metadata": {
      "needs_background": "light"
     },
     "output_type": "display_data"
    }
   ],
   "source": [
    "plt.figure(figsize = (15,10))\n",
    "sns.histplot(x = 'engine_type', hue = 'is_claim', data = df, multiple = 'stack', stat = 'density', common_norm=False)"
   ]
  },
  {
   "cell_type": "code",
   "execution_count": 22,
   "id": "8e0a5b9e",
   "metadata": {
    "scrolled": true
   },
   "outputs": [
    {
     "data": {
      "text/plain": [
       "<AxesSubplot:xlabel='airbags', ylabel='Density'>"
      ]
     },
     "execution_count": 22,
     "metadata": {},
     "output_type": "execute_result"
    },
    {
     "data": {
      "image/png": "[encoded data removed]",
      "text/plain": [
       "<Figure size 1080x720 with 1 Axes>"
      ]
     },
     "metadata": {
      "needs_background": "light"
     },
     "output_type": "display_data"
    }
   ],
   "source": [
    "plt.figure(figsize = (15,10))\n",
    "sns.histplot(x = 'airbags', hue = 'is_claim', data = df, multiple = 'stack', stat = 'density', common_norm=False)"
   ]
  },
  {
   "cell_type": "code",
   "execution_count": 23,
   "id": "481b0ad8",
   "metadata": {},
   "outputs": [
    {
     "data": {
      "text/plain": [
       "<AxesSubplot:xlabel='is_esc', ylabel='Density'>"
      ]
     },
     "execution_count": 23,
     "metadata": {},
     "output_type": "execute_result"
    },
    {
     "data": {
      "image/png": "[encoded data removed]",
      "text/plain": [
       "<Figure size 1080x720 with 1 Axes>"
      ]
     },
     "metadata": {
      "needs_background": "light"
     },
     "output_type": "display_data"
    }
   ],
   "source": [
    "plt.figure(figsize = (15,10))\n",
    "sns.histplot(x = 'is_esc', hue = 'is_claim', data = df, multiple = 'stack', stat = 'density', common_norm=False)"
   ]
  },
  {
   "cell_type": "code",
   "execution_count": 24,
   "id": "d06b3d8d",
   "metadata": {},
   "outputs": [],
   "source": [
    "cols = ['is_esc', 'is_adjustable_steering', 'is_tpms', 'is_parking_sensors', 'is_parking_camera',\n",
    "        'is_front_fog_lights', 'is_rear_window_wiper', 'is_rear_window_washer',\n",
    "        'is_rear_window_defogger', 'is_brake_assist', 'is_power_door_locks', 'is_central_locking', 'is_power_steering',\n",
    "        'is_driver_seat_height_adjustable', 'is_day_night_rear_view_mirror', 'is_ecw', 'is_speed_alert']\n",
    "\n",
    "for col in cols:\n",
    "    df[col] = np.where(df[col] == 'Yes', 1, 0)\n",
    "    \n",
    "for col in cols:\n",
    "    oot[col] = np.where(oot[col] == 'Yes', 1, 0)"
   ]
  },
  {
   "cell_type": "markdown",
   "id": "84e84b2b",
   "metadata": {},
   "source": [
    "### Train and Validation Split"
   ]
  },
  {
   "cell_type": "code",
   "execution_count": 25,
   "id": "1dda4549",
   "metadata": {},
   "outputs": [],
   "source": [
    "X = df.drop(columns = ['policy_id', 'is_claim'])\n",
    "y = df['is_claim']"
   ]
  },
  {
   "cell_type": "code",
   "execution_count": 26,
   "id": "7d4dbe6b",
   "metadata": {},
   "outputs": [],
   "source": [
    "x_train, x_test, y_train, y_test = train_test_split(X, y, test_size = 0.1, stratify = y, random_state = 1)"
   ]
  },
  {
   "cell_type": "code",
   "execution_count": 27,
   "id": "f3924c3a",
   "metadata": {},
   "outputs": [
    {
     "data": {
      "text/plain": [
       "0    0.936035\n",
       "1    0.063965\n",
       "Name: is_claim, dtype: float64"
      ]
     },
     "execution_count": 27,
     "metadata": {},
     "output_type": "execute_result"
    }
   ],
   "source": [
    "y_train.value_counts(normalize = True)"
   ]
  },
  {
   "cell_type": "code",
   "execution_count": 28,
   "id": "54c1aed0",
   "metadata": {},
   "outputs": [
    {
     "data": {
      "text/plain": [
       "0    5485\n",
       "1     375\n",
       "Name: is_claim, dtype: int64"
      ]
     },
     "execution_count": 28,
     "metadata": {},
     "output_type": "execute_result"
    }
   ],
   "source": [
    "y_test.value_counts()"
   ]
  },
  {
   "cell_type": "markdown",
   "id": "d9cb7d5f",
   "metadata": {},
   "source": [
    "### Encoding"
   ]
  },
  {
   "cell_type": "code",
   "execution_count": 29,
   "id": "77fe32bb",
   "metadata": {},
   "outputs": [],
   "source": [
    "woe = WOEEncoder()"
   ]
  },
  {
   "cell_type": "code",
   "execution_count": 30,
   "id": "6bd7342e",
   "metadata": {},
   "outputs": [],
   "source": [
    "feature_list = ['area_cluster', 'make', 'segment', 'model', 'fuel_type', 'max_torque', 'max_power', 'engine_type',\n",
    "                 'rear_brakes_type', 'transmission_type', 'steering_type']"
   ]
  },
  {
   "cell_type": "code",
   "execution_count": 31,
   "id": "cb20c434",
   "metadata": {},
   "outputs": [],
   "source": [
    "train_woe = woe.fit_transform(x_train[feature_list], y_train)\n",
    "test_woe = woe.transform(x_test[feature_list])\n",
    "oot_woe = woe.transform(oot[feature_list])"
   ]
  },
  {
   "cell_type": "code",
   "execution_count": 32,
   "id": "f4487bc0",
   "metadata": {},
   "outputs": [
    {
     "data": {
      "text/plain": [
       "(52732, 11)"
      ]
     },
     "execution_count": 32,
     "metadata": {},
     "output_type": "execute_result"
    }
   ],
   "source": [
    "train_woe.shape"
   ]
  },
  {
   "cell_type": "code",
   "execution_count": 33,
   "id": "154aa19f",
   "metadata": {},
   "outputs": [
    {
     "data": {
      "text/html": [
       "<div>\n",
       "<style scoped>\n",
       "    .dataframe tbody tr th:only-of-type {\n",
       "        vertical-align: middle;\n",
       "    }\n",
       "\n",
       "    .dataframe tbody tr th {\n",
       "        vertical-align: top;\n",
       "    }\n",
       "\n",
       "    .dataframe thead th {\n",
       "        text-align: right;\n",
       "    }\n",
       "</style>\n",
       "<table border=\"1\" class=\"dataframe\">\n",
       "  <thead>\n",
       "    <tr style=\"text-align: right;\">\n",
       "      <th></th>\n",
       "      <th>area_cluster</th>\n",
       "      <th>make</th>\n",
       "      <th>segment</th>\n",
       "      <th>model</th>\n",
       "      <th>fuel_type</th>\n",
       "      <th>max_torque</th>\n",
       "      <th>max_power</th>\n",
       "      <th>engine_type</th>\n",
       "      <th>rear_brakes_type</th>\n",
       "      <th>transmission_type</th>\n",
       "      <th>steering_type</th>\n",
       "    </tr>\n",
       "  </thead>\n",
       "  <tbody>\n",
       "    <tr>\n",
       "      <th>42769</th>\n",
       "      <td>0.104014</td>\n",
       "      <td>0.012074</td>\n",
       "      <td>0.090258</td>\n",
       "      <td>0.076777</td>\n",
       "      <td>0.043882</td>\n",
       "      <td>0.083521</td>\n",
       "      <td>0.083521</td>\n",
       "      <td>0.076777</td>\n",
       "      <td>0.002479</td>\n",
       "      <td>0.003574</td>\n",
       "      <td>0.054712</td>\n",
       "    </tr>\n",
       "    <tr>\n",
       "      <th>35051</th>\n",
       "      <td>0.104014</td>\n",
       "      <td>0.012074</td>\n",
       "      <td>-0.060953</td>\n",
       "      <td>-0.037514</td>\n",
       "      <td>-0.053764</td>\n",
       "      <td>-0.037514</td>\n",
       "      <td>-0.037514</td>\n",
       "      <td>-0.037514</td>\n",
       "      <td>0.002479</td>\n",
       "      <td>0.003574</td>\n",
       "      <td>-0.040718</td>\n",
       "    </tr>\n",
       "    <tr>\n",
       "      <th>12127</th>\n",
       "      <td>0.116440</td>\n",
       "      <td>0.012074</td>\n",
       "      <td>-0.060953</td>\n",
       "      <td>-0.037514</td>\n",
       "      <td>-0.053764</td>\n",
       "      <td>-0.037514</td>\n",
       "      <td>-0.037514</td>\n",
       "      <td>-0.037514</td>\n",
       "      <td>0.002479</td>\n",
       "      <td>0.003574</td>\n",
       "      <td>-0.040718</td>\n",
       "    </tr>\n",
       "    <tr>\n",
       "      <th>17456</th>\n",
       "      <td>0.127955</td>\n",
       "      <td>0.012074</td>\n",
       "      <td>0.090258</td>\n",
       "      <td>0.076777</td>\n",
       "      <td>0.043882</td>\n",
       "      <td>0.083521</td>\n",
       "      <td>0.083521</td>\n",
       "      <td>0.076777</td>\n",
       "      <td>0.002479</td>\n",
       "      <td>0.003574</td>\n",
       "      <td>0.054712</td>\n",
       "    </tr>\n",
       "    <tr>\n",
       "      <th>17734</th>\n",
       "      <td>-0.087772</td>\n",
       "      <td>-0.007887</td>\n",
       "      <td>-0.007887</td>\n",
       "      <td>-0.007887</td>\n",
       "      <td>0.009051</td>\n",
       "      <td>-0.007887</td>\n",
       "      <td>-0.007887</td>\n",
       "      <td>-0.007887</td>\n",
       "      <td>-0.007887</td>\n",
       "      <td>-0.006683</td>\n",
       "      <td>-0.040718</td>\n",
       "    </tr>\n",
       "  </tbody>\n",
       "</table>\n",
       "</div>"
      ],
      "text/plain": [
       "       area_cluster      make   segment     model  fuel_type  max_torque  \\\n",
       "42769      0.104014  0.012074  0.090258  0.076777   0.043882    0.083521   \n",
       "35051      0.104014  0.012074 -0.060953 -0.037514  -0.053764   -0.037514   \n",
       "12127      0.116440  0.012074 -0.060953 -0.037514  -0.053764   -0.037514   \n",
       "17456      0.127955  0.012074  0.090258  0.076777   0.043882    0.083521   \n",
       "17734     -0.087772 -0.007887 -0.007887 -0.007887   0.009051   -0.007887   \n",
       "\n",
       "       max_power  engine_type  rear_brakes_type  transmission_type  \\\n",
       "42769   0.083521     0.076777          0.002479           0.003574   \n",
       "35051  -0.037514    -0.037514          0.002479           0.003574   \n",
       "12127  -0.037514    -0.037514          0.002479           0.003574   \n",
       "17456   0.083521     0.076777          0.002479           0.003574   \n",
       "17734  -0.007887    -0.007887         -0.007887          -0.006683   \n",
       "\n",
       "       steering_type  \n",
       "42769       0.054712  \n",
       "35051      -0.040718  \n",
       "12127      -0.040718  \n",
       "17456       0.054712  \n",
       "17734      -0.040718  "
      ]
     },
     "execution_count": 33,
     "metadata": {},
     "output_type": "execute_result"
    }
   ],
   "source": [
    "train_woe.head()"
   ]
  },
  {
   "cell_type": "code",
   "execution_count": 34,
   "id": "7c37edee",
   "metadata": {},
   "outputs": [],
   "source": [
    "x_train.drop(columns = feature_list, inplace = True)\n",
    "x_test.drop(columns = feature_list, inplace = True)\n",
    "oot.drop(columns = feature_list, inplace = True)"
   ]
  },
  {
   "cell_type": "code",
   "execution_count": 35,
   "id": "b15cf6c1",
   "metadata": {},
   "outputs": [],
   "source": [
    "x_train_final = pd.concat([x_train, train_woe], axis = 1)\n",
    "x_test_final = pd.concat([x_test, test_woe], axis = 1)\n",
    "oot_final = pd.concat([oot, oot_woe], axis = 1)"
   ]
  },
  {
   "cell_type": "code",
   "execution_count": 36,
   "id": "f5577c1f",
   "metadata": {
    "scrolled": true
   },
   "outputs": [
    {
     "data": {
      "text/html": [
       "<div>\n",
       "<style scoped>\n",
       "    .dataframe tbody tr th:only-of-type {\n",
       "        vertical-align: middle;\n",
       "    }\n",
       "\n",
       "    .dataframe tbody tr th {\n",
       "        vertical-align: top;\n",
       "    }\n",
       "\n",
       "    .dataframe thead th {\n",
       "        text-align: right;\n",
       "    }\n",
       "</style>\n",
       "<table border=\"1\" class=\"dataframe\">\n",
       "  <thead>\n",
       "    <tr style=\"text-align: right;\">\n",
       "      <th></th>\n",
       "      <th>policy_tenure</th>\n",
       "      <th>age_of_car</th>\n",
       "      <th>age_of_policyholder</th>\n",
       "      <th>population_density</th>\n",
       "      <th>airbags</th>\n",
       "      <th>is_esc</th>\n",
       "      <th>is_adjustable_steering</th>\n",
       "      <th>is_tpms</th>\n",
       "      <th>is_parking_sensors</th>\n",
       "      <th>is_parking_camera</th>\n",
       "      <th>displacement</th>\n",
       "      <th>cylinder</th>\n",
       "      <th>gear_box</th>\n",
       "      <th>turning_radius</th>\n",
       "      <th>length</th>\n",
       "      <th>width</th>\n",
       "      <th>height</th>\n",
       "      <th>gross_weight</th>\n",
       "      <th>is_front_fog_lights</th>\n",
       "      <th>is_rear_window_wiper</th>\n",
       "      <th>is_rear_window_washer</th>\n",
       "      <th>is_rear_window_defogger</th>\n",
       "      <th>is_brake_assist</th>\n",
       "      <th>is_power_door_locks</th>\n",
       "      <th>is_central_locking</th>\n",
       "      <th>is_power_steering</th>\n",
       "      <th>is_driver_seat_height_adjustable</th>\n",
       "      <th>is_day_night_rear_view_mirror</th>\n",
       "      <th>is_ecw</th>\n",
       "      <th>is_speed_alert</th>\n",
       "      <th>ncap_rating</th>\n",
       "      <th>area_cluster</th>\n",
       "      <th>make</th>\n",
       "      <th>segment</th>\n",
       "      <th>model</th>\n",
       "      <th>fuel_type</th>\n",
       "      <th>max_torque</th>\n",
       "      <th>max_power</th>\n",
       "      <th>engine_type</th>\n",
       "      <th>rear_brakes_type</th>\n",
       "      <th>transmission_type</th>\n",
       "      <th>steering_type</th>\n",
       "    </tr>\n",
       "  </thead>\n",
       "  <tbody>\n",
       "    <tr>\n",
       "      <th>42769</th>\n",
       "      <td>0.868744</td>\n",
       "      <td>0.08</td>\n",
       "      <td>0.346154</td>\n",
       "      <td>8794</td>\n",
       "      <td>2</td>\n",
       "      <td>0</td>\n",
       "      <td>1</td>\n",
       "      <td>0</td>\n",
       "      <td>1</td>\n",
       "      <td>0</td>\n",
       "      <td>1197</td>\n",
       "      <td>4</td>\n",
       "      <td>5</td>\n",
       "      <td>4.8</td>\n",
       "      <td>3845</td>\n",
       "      <td>1735</td>\n",
       "      <td>1530</td>\n",
       "      <td>1335</td>\n",
       "      <td>1</td>\n",
       "      <td>0</td>\n",
       "      <td>0</td>\n",
       "      <td>0</td>\n",
       "      <td>1</td>\n",
       "      <td>1</td>\n",
       "      <td>1</td>\n",
       "      <td>1</td>\n",
       "      <td>1</td>\n",
       "      <td>1</td>\n",
       "      <td>1</td>\n",
       "      <td>1</td>\n",
       "      <td>2</td>\n",
       "      <td>0.104014</td>\n",
       "      <td>0.012074</td>\n",
       "      <td>0.090258</td>\n",
       "      <td>0.076777</td>\n",
       "      <td>0.043882</td>\n",
       "      <td>0.083521</td>\n",
       "      <td>0.083521</td>\n",
       "      <td>0.076777</td>\n",
       "      <td>0.002479</td>\n",
       "      <td>0.003574</td>\n",
       "      <td>0.054712</td>\n",
       "    </tr>\n",
       "    <tr>\n",
       "      <th>35051</th>\n",
       "      <td>0.383458</td>\n",
       "      <td>0.00</td>\n",
       "      <td>0.509615</td>\n",
       "      <td>8794</td>\n",
       "      <td>2</td>\n",
       "      <td>0</td>\n",
       "      <td>0</td>\n",
       "      <td>0</td>\n",
       "      <td>1</td>\n",
       "      <td>0</td>\n",
       "      <td>796</td>\n",
       "      <td>3</td>\n",
       "      <td>5</td>\n",
       "      <td>4.6</td>\n",
       "      <td>3445</td>\n",
       "      <td>1515</td>\n",
       "      <td>1475</td>\n",
       "      <td>1185</td>\n",
       "      <td>0</td>\n",
       "      <td>0</td>\n",
       "      <td>0</td>\n",
       "      <td>0</td>\n",
       "      <td>0</td>\n",
       "      <td>0</td>\n",
       "      <td>0</td>\n",
       "      <td>1</td>\n",
       "      <td>0</td>\n",
       "      <td>0</td>\n",
       "      <td>0</td>\n",
       "      <td>1</td>\n",
       "      <td>0</td>\n",
       "      <td>0.104014</td>\n",
       "      <td>0.012074</td>\n",
       "      <td>-0.060953</td>\n",
       "      <td>-0.037514</td>\n",
       "      <td>-0.053764</td>\n",
       "      <td>-0.037514</td>\n",
       "      <td>-0.037514</td>\n",
       "      <td>-0.037514</td>\n",
       "      <td>0.002479</td>\n",
       "      <td>0.003574</td>\n",
       "      <td>-0.040718</td>\n",
       "    </tr>\n",
       "    <tr>\n",
       "      <th>12127</th>\n",
       "      <td>0.869126</td>\n",
       "      <td>0.00</td>\n",
       "      <td>0.423077</td>\n",
       "      <td>4076</td>\n",
       "      <td>2</td>\n",
       "      <td>0</td>\n",
       "      <td>0</td>\n",
       "      <td>0</td>\n",
       "      <td>1</td>\n",
       "      <td>0</td>\n",
       "      <td>796</td>\n",
       "      <td>3</td>\n",
       "      <td>5</td>\n",
       "      <td>4.6</td>\n",
       "      <td>3445</td>\n",
       "      <td>1515</td>\n",
       "      <td>1475</td>\n",
       "      <td>1185</td>\n",
       "      <td>0</td>\n",
       "      <td>0</td>\n",
       "      <td>0</td>\n",
       "      <td>0</td>\n",
       "      <td>0</td>\n",
       "      <td>0</td>\n",
       "      <td>0</td>\n",
       "      <td>1</td>\n",
       "      <td>0</td>\n",
       "      <td>0</td>\n",
       "      <td>0</td>\n",
       "      <td>1</td>\n",
       "      <td>0</td>\n",
       "      <td>0.116440</td>\n",
       "      <td>0.012074</td>\n",
       "      <td>-0.060953</td>\n",
       "      <td>-0.037514</td>\n",
       "      <td>-0.053764</td>\n",
       "      <td>-0.037514</td>\n",
       "      <td>-0.037514</td>\n",
       "      <td>-0.037514</td>\n",
       "      <td>0.002479</td>\n",
       "      <td>0.003574</td>\n",
       "      <td>-0.040718</td>\n",
       "    </tr>\n",
       "    <tr>\n",
       "      <th>17456</th>\n",
       "      <td>0.766596</td>\n",
       "      <td>0.01</td>\n",
       "      <td>0.307692</td>\n",
       "      <td>27742</td>\n",
       "      <td>2</td>\n",
       "      <td>0</td>\n",
       "      <td>1</td>\n",
       "      <td>0</td>\n",
       "      <td>1</td>\n",
       "      <td>0</td>\n",
       "      <td>1197</td>\n",
       "      <td>4</td>\n",
       "      <td>5</td>\n",
       "      <td>4.8</td>\n",
       "      <td>3845</td>\n",
       "      <td>1735</td>\n",
       "      <td>1530</td>\n",
       "      <td>1335</td>\n",
       "      <td>1</td>\n",
       "      <td>0</td>\n",
       "      <td>0</td>\n",
       "      <td>0</td>\n",
       "      <td>1</td>\n",
       "      <td>1</td>\n",
       "      <td>1</td>\n",
       "      <td>1</td>\n",
       "      <td>1</td>\n",
       "      <td>1</td>\n",
       "      <td>1</td>\n",
       "      <td>1</td>\n",
       "      <td>2</td>\n",
       "      <td>0.127955</td>\n",
       "      <td>0.012074</td>\n",
       "      <td>0.090258</td>\n",
       "      <td>0.076777</td>\n",
       "      <td>0.043882</td>\n",
       "      <td>0.083521</td>\n",
       "      <td>0.083521</td>\n",
       "      <td>0.076777</td>\n",
       "      <td>0.002479</td>\n",
       "      <td>0.003574</td>\n",
       "      <td>0.054712</td>\n",
       "    </tr>\n",
       "    <tr>\n",
       "      <th>17734</th>\n",
       "      <td>0.031597</td>\n",
       "      <td>0.06</td>\n",
       "      <td>0.298077</td>\n",
       "      <td>5410</td>\n",
       "      <td>6</td>\n",
       "      <td>1</td>\n",
       "      <td>1</td>\n",
       "      <td>1</td>\n",
       "      <td>1</td>\n",
       "      <td>1</td>\n",
       "      <td>1493</td>\n",
       "      <td>4</td>\n",
       "      <td>6</td>\n",
       "      <td>5.2</td>\n",
       "      <td>4300</td>\n",
       "      <td>1790</td>\n",
       "      <td>1635</td>\n",
       "      <td>1720</td>\n",
       "      <td>1</td>\n",
       "      <td>1</td>\n",
       "      <td>1</td>\n",
       "      <td>1</td>\n",
       "      <td>1</td>\n",
       "      <td>1</td>\n",
       "      <td>1</td>\n",
       "      <td>1</td>\n",
       "      <td>1</td>\n",
       "      <td>0</td>\n",
       "      <td>1</td>\n",
       "      <td>1</td>\n",
       "      <td>3</td>\n",
       "      <td>-0.087772</td>\n",
       "      <td>-0.007887</td>\n",
       "      <td>-0.007887</td>\n",
       "      <td>-0.007887</td>\n",
       "      <td>0.009051</td>\n",
       "      <td>-0.007887</td>\n",
       "      <td>-0.007887</td>\n",
       "      <td>-0.007887</td>\n",
       "      <td>-0.007887</td>\n",
       "      <td>-0.006683</td>\n",
       "      <td>-0.040718</td>\n",
       "    </tr>\n",
       "  </tbody>\n",
       "</table>\n",
       "</div>"
      ],
      "text/plain": [
       "       policy_tenure  age_of_car  age_of_policyholder  population_density  \\\n",
       "42769       0.868744        0.08             0.346154                8794   \n",
       "35051       0.383458        0.00             0.509615                8794   \n",
       "12127       0.869126        0.00             0.423077                4076   \n",
       "17456       0.766596        0.01             0.307692               27742   \n",
       "17734       0.031597        0.06             0.298077                5410   \n",
       "\n",
       "       airbags  is_esc  is_adjustable_steering  is_tpms  is_parking_sensors  \\\n",
       "42769        2       0                       1        0                   1   \n",
       "35051        2       0                       0        0                   1   \n",
       "12127        2       0                       0        0                   1   \n",
       "17456        2       0                       1        0                   1   \n",
       "17734        6       1                       1        1                   1   \n",
       "\n",
       "       is_parking_camera  displacement  cylinder  gear_box  turning_radius  \\\n",
       "42769                  0          1197         4         5             4.8   \n",
       "35051                  0           796         3         5             4.6   \n",
       "12127                  0           796         3         5             4.6   \n",
       "17456                  0          1197         4         5             4.8   \n",
       "17734                  1          1493         4         6             5.2   \n",
       "\n",
       "       length  width  height  gross_weight  is_front_fog_lights  \\\n",
       "42769    3845   1735    1530          1335                    1   \n",
       "35051    3445   1515    1475          1185                    0   \n",
       "12127    3445   1515    1475          1185                    0   \n",
       "17456    3845   1735    1530          1335                    1   \n",
       "17734    4300   1790    1635          1720                    1   \n",
       "\n",
       "       is_rear_window_wiper  is_rear_window_washer  is_rear_window_defogger  \\\n",
       "42769                     0                      0                        0   \n",
       "35051                     0                      0                        0   \n",
       "12127                     0                      0                        0   \n",
       "17456                     0                      0                        0   \n",
       "17734                     1                      1                        1   \n",
       "\n",
       "       is_brake_assist  is_power_door_locks  is_central_locking  \\\n",
       "42769                1                    1                   1   \n",
       "35051                0                    0                   0   \n",
       "12127                0                    0                   0   \n",
       "17456                1                    1                   1   \n",
       "17734                1                    1                   1   \n",
       "\n",
       "       is_power_steering  is_driver_seat_height_adjustable  \\\n",
       "42769                  1                                 1   \n",
       "35051                  1                                 0   \n",
       "12127                  1                                 0   \n",
       "17456                  1                                 1   \n",
       "17734                  1                                 1   \n",
       "\n",
       "       is_day_night_rear_view_mirror  is_ecw  is_speed_alert  ncap_rating  \\\n",
       "42769                              1       1               1            2   \n",
       "35051                              0       0               1            0   \n",
       "12127                              0       0               1            0   \n",
       "17456                              1       1               1            2   \n",
       "17734                              0       1               1            3   \n",
       "\n",
       "       area_cluster      make   segment     model  fuel_type  max_torque  \\\n",
       "42769      0.104014  0.012074  0.090258  0.076777   0.043882    0.083521   \n",
       "35051      0.104014  0.012074 -0.060953 -0.037514  -0.053764   -0.037514   \n",
       "12127      0.116440  0.012074 -0.060953 -0.037514  -0.053764   -0.037514   \n",
       "17456      0.127955  0.012074  0.090258  0.076777   0.043882    0.083521   \n",
       "17734     -0.087772 -0.007887 -0.007887 -0.007887   0.009051   -0.007887   \n",
       "\n",
       "       max_power  engine_type  rear_brakes_type  transmission_type  \\\n",
       "42769   0.083521     0.076777          0.002479           0.003574   \n",
       "35051  -0.037514    -0.037514          0.002479           0.003574   \n",
       "12127  -0.037514    -0.037514          0.002479           0.003574   \n",
       "17456   0.083521     0.076777          0.002479           0.003574   \n",
       "17734  -0.007887    -0.007887         -0.007887          -0.006683   \n",
       "\n",
       "       steering_type  \n",
       "42769       0.054712  \n",
       "35051      -0.040718  \n",
       "12127      -0.040718  \n",
       "17456       0.054712  \n",
       "17734      -0.040718  "
      ]
     },
     "execution_count": 36,
     "metadata": {},
     "output_type": "execute_result"
    }
   ],
   "source": [
    "x_train_final.head()"
   ]
  },
  {
   "cell_type": "code",
   "execution_count": 37,
   "id": "4830cfbb",
   "metadata": {},
   "outputs": [
    {
     "data": {
      "text/html": [
       "<div>\n",
       "<style scoped>\n",
       "    .dataframe tbody tr th:only-of-type {\n",
       "        vertical-align: middle;\n",
       "    }\n",
       "\n",
       "    .dataframe tbody tr th {\n",
       "        vertical-align: top;\n",
       "    }\n",
       "\n",
       "    .dataframe thead th {\n",
       "        text-align: right;\n",
       "    }\n",
       "</style>\n",
       "<table border=\"1\" class=\"dataframe\">\n",
       "  <thead>\n",
       "    <tr style=\"text-align: right;\">\n",
       "      <th></th>\n",
       "      <th>policy_tenure</th>\n",
       "      <th>age_of_car</th>\n",
       "      <th>age_of_policyholder</th>\n",
       "      <th>population_density</th>\n",
       "      <th>airbags</th>\n",
       "      <th>is_esc</th>\n",
       "      <th>is_adjustable_steering</th>\n",
       "      <th>is_tpms</th>\n",
       "      <th>is_parking_sensors</th>\n",
       "      <th>is_parking_camera</th>\n",
       "      <th>displacement</th>\n",
       "      <th>cylinder</th>\n",
       "      <th>gear_box</th>\n",
       "      <th>turning_radius</th>\n",
       "      <th>length</th>\n",
       "      <th>width</th>\n",
       "      <th>height</th>\n",
       "      <th>gross_weight</th>\n",
       "      <th>is_front_fog_lights</th>\n",
       "      <th>is_rear_window_wiper</th>\n",
       "      <th>is_rear_window_washer</th>\n",
       "      <th>is_rear_window_defogger</th>\n",
       "      <th>is_brake_assist</th>\n",
       "      <th>is_power_door_locks</th>\n",
       "      <th>is_central_locking</th>\n",
       "      <th>is_power_steering</th>\n",
       "      <th>is_driver_seat_height_adjustable</th>\n",
       "      <th>is_day_night_rear_view_mirror</th>\n",
       "      <th>is_ecw</th>\n",
       "      <th>is_speed_alert</th>\n",
       "      <th>ncap_rating</th>\n",
       "      <th>area_cluster</th>\n",
       "      <th>make</th>\n",
       "      <th>segment</th>\n",
       "      <th>model</th>\n",
       "      <th>fuel_type</th>\n",
       "      <th>max_torque</th>\n",
       "      <th>max_power</th>\n",
       "      <th>engine_type</th>\n",
       "      <th>rear_brakes_type</th>\n",
       "      <th>transmission_type</th>\n",
       "      <th>steering_type</th>\n",
       "    </tr>\n",
       "  </thead>\n",
       "  <tbody>\n",
       "    <tr>\n",
       "      <th>24307</th>\n",
       "      <td>0.867852</td>\n",
       "      <td>0.02</td>\n",
       "      <td>0.653846</td>\n",
       "      <td>4076</td>\n",
       "      <td>2</td>\n",
       "      <td>0</td>\n",
       "      <td>0</td>\n",
       "      <td>0</td>\n",
       "      <td>1</td>\n",
       "      <td>0</td>\n",
       "      <td>796</td>\n",
       "      <td>3</td>\n",
       "      <td>5</td>\n",
       "      <td>4.6</td>\n",
       "      <td>3445</td>\n",
       "      <td>1515</td>\n",
       "      <td>1475</td>\n",
       "      <td>1185</td>\n",
       "      <td>0</td>\n",
       "      <td>0</td>\n",
       "      <td>0</td>\n",
       "      <td>0</td>\n",
       "      <td>0</td>\n",
       "      <td>0</td>\n",
       "      <td>0</td>\n",
       "      <td>1</td>\n",
       "      <td>0</td>\n",
       "      <td>0</td>\n",
       "      <td>0</td>\n",
       "      <td>1</td>\n",
       "      <td>0</td>\n",
       "      <td>0.116440</td>\n",
       "      <td>0.012074</td>\n",
       "      <td>-0.060953</td>\n",
       "      <td>-0.037514</td>\n",
       "      <td>-0.053764</td>\n",
       "      <td>-0.037514</td>\n",
       "      <td>-0.037514</td>\n",
       "      <td>-0.037514</td>\n",
       "      <td>0.002479</td>\n",
       "      <td>0.003574</td>\n",
       "      <td>-0.040718</td>\n",
       "    </tr>\n",
       "    <tr>\n",
       "      <th>57327</th>\n",
       "      <td>1.090563</td>\n",
       "      <td>0.17</td>\n",
       "      <td>0.451923</td>\n",
       "      <td>8794</td>\n",
       "      <td>2</td>\n",
       "      <td>0</td>\n",
       "      <td>1</td>\n",
       "      <td>0</td>\n",
       "      <td>1</td>\n",
       "      <td>1</td>\n",
       "      <td>1498</td>\n",
       "      <td>4</td>\n",
       "      <td>5</td>\n",
       "      <td>4.9</td>\n",
       "      <td>3995</td>\n",
       "      <td>1695</td>\n",
       "      <td>1501</td>\n",
       "      <td>1051</td>\n",
       "      <td>1</td>\n",
       "      <td>0</td>\n",
       "      <td>0</td>\n",
       "      <td>1</td>\n",
       "      <td>0</td>\n",
       "      <td>1</td>\n",
       "      <td>1</td>\n",
       "      <td>1</td>\n",
       "      <td>1</td>\n",
       "      <td>1</td>\n",
       "      <td>1</td>\n",
       "      <td>1</td>\n",
       "      <td>4</td>\n",
       "      <td>0.104014</td>\n",
       "      <td>-0.029199</td>\n",
       "      <td>-0.010470</td>\n",
       "      <td>-0.029199</td>\n",
       "      <td>0.009051</td>\n",
       "      <td>-0.029199</td>\n",
       "      <td>-0.029199</td>\n",
       "      <td>-0.029199</td>\n",
       "      <td>0.002479</td>\n",
       "      <td>0.003574</td>\n",
       "      <td>0.054712</td>\n",
       "    </tr>\n",
       "    <tr>\n",
       "      <th>24703</th>\n",
       "      <td>1.088634</td>\n",
       "      <td>0.18</td>\n",
       "      <td>0.423077</td>\n",
       "      <td>8794</td>\n",
       "      <td>2</td>\n",
       "      <td>0</td>\n",
       "      <td>1</td>\n",
       "      <td>0</td>\n",
       "      <td>1</td>\n",
       "      <td>0</td>\n",
       "      <td>1197</td>\n",
       "      <td>4</td>\n",
       "      <td>5</td>\n",
       "      <td>4.8</td>\n",
       "      <td>3845</td>\n",
       "      <td>1735</td>\n",
       "      <td>1530</td>\n",
       "      <td>1335</td>\n",
       "      <td>1</td>\n",
       "      <td>0</td>\n",
       "      <td>0</td>\n",
       "      <td>0</td>\n",
       "      <td>1</td>\n",
       "      <td>1</td>\n",
       "      <td>1</td>\n",
       "      <td>1</td>\n",
       "      <td>1</td>\n",
       "      <td>1</td>\n",
       "      <td>1</td>\n",
       "      <td>1</td>\n",
       "      <td>2</td>\n",
       "      <td>0.104014</td>\n",
       "      <td>0.012074</td>\n",
       "      <td>0.090258</td>\n",
       "      <td>0.076777</td>\n",
       "      <td>0.043882</td>\n",
       "      <td>0.083521</td>\n",
       "      <td>0.083521</td>\n",
       "      <td>0.076777</td>\n",
       "      <td>0.002479</td>\n",
       "      <td>0.003574</td>\n",
       "      <td>0.054712</td>\n",
       "    </tr>\n",
       "    <tr>\n",
       "      <th>40585</th>\n",
       "      <td>0.913375</td>\n",
       "      <td>0.01</td>\n",
       "      <td>0.605769</td>\n",
       "      <td>4076</td>\n",
       "      <td>6</td>\n",
       "      <td>1</td>\n",
       "      <td>1</td>\n",
       "      <td>1</td>\n",
       "      <td>1</td>\n",
       "      <td>1</td>\n",
       "      <td>1493</td>\n",
       "      <td>4</td>\n",
       "      <td>6</td>\n",
       "      <td>5.2</td>\n",
       "      <td>4300</td>\n",
       "      <td>1790</td>\n",
       "      <td>1635</td>\n",
       "      <td>1720</td>\n",
       "      <td>1</td>\n",
       "      <td>1</td>\n",
       "      <td>1</td>\n",
       "      <td>1</td>\n",
       "      <td>1</td>\n",
       "      <td>1</td>\n",
       "      <td>1</td>\n",
       "      <td>1</td>\n",
       "      <td>1</td>\n",
       "      <td>0</td>\n",
       "      <td>1</td>\n",
       "      <td>1</td>\n",
       "      <td>3</td>\n",
       "      <td>0.116440</td>\n",
       "      <td>-0.007887</td>\n",
       "      <td>-0.007887</td>\n",
       "      <td>-0.007887</td>\n",
       "      <td>0.009051</td>\n",
       "      <td>-0.007887</td>\n",
       "      <td>-0.007887</td>\n",
       "      <td>-0.007887</td>\n",
       "      <td>-0.007887</td>\n",
       "      <td>-0.006683</td>\n",
       "      <td>-0.040718</td>\n",
       "    </tr>\n",
       "    <tr>\n",
       "      <th>17527</th>\n",
       "      <td>0.745566</td>\n",
       "      <td>0.04</td>\n",
       "      <td>0.576923</td>\n",
       "      <td>6108</td>\n",
       "      <td>2</td>\n",
       "      <td>0</td>\n",
       "      <td>0</td>\n",
       "      <td>0</td>\n",
       "      <td>1</td>\n",
       "      <td>0</td>\n",
       "      <td>796</td>\n",
       "      <td>3</td>\n",
       "      <td>5</td>\n",
       "      <td>4.6</td>\n",
       "      <td>3445</td>\n",
       "      <td>1515</td>\n",
       "      <td>1475</td>\n",
       "      <td>1185</td>\n",
       "      <td>0</td>\n",
       "      <td>0</td>\n",
       "      <td>0</td>\n",
       "      <td>0</td>\n",
       "      <td>0</td>\n",
       "      <td>0</td>\n",
       "      <td>0</td>\n",
       "      <td>1</td>\n",
       "      <td>0</td>\n",
       "      <td>0</td>\n",
       "      <td>0</td>\n",
       "      <td>1</td>\n",
       "      <td>0</td>\n",
       "      <td>-0.105572</td>\n",
       "      <td>0.012074</td>\n",
       "      <td>-0.060953</td>\n",
       "      <td>-0.037514</td>\n",
       "      <td>-0.053764</td>\n",
       "      <td>-0.037514</td>\n",
       "      <td>-0.037514</td>\n",
       "      <td>-0.037514</td>\n",
       "      <td>0.002479</td>\n",
       "      <td>0.003574</td>\n",
       "      <td>-0.040718</td>\n",
       "    </tr>\n",
       "  </tbody>\n",
       "</table>\n",
       "</div>"
      ],
      "text/plain": [
       "       policy_tenure  age_of_car  age_of_policyholder  population_density  \\\n",
       "24307       0.867852        0.02             0.653846                4076   \n",
       "57327       1.090563        0.17             0.451923                8794   \n",
       "24703       1.088634        0.18             0.423077                8794   \n",
       "40585       0.913375        0.01             0.605769                4076   \n",
       "17527       0.745566        0.04             0.576923                6108   \n",
       "\n",
       "       airbags  is_esc  is_adjustable_steering  is_tpms  is_parking_sensors  \\\n",
       "24307        2       0                       0        0                   1   \n",
       "57327        2       0                       1        0                   1   \n",
       "24703        2       0                       1        0                   1   \n",
       "40585        6       1                       1        1                   1   \n",
       "17527        2       0                       0        0                   1   \n",
       "\n",
       "       is_parking_camera  displacement  cylinder  gear_box  turning_radius  \\\n",
       "24307                  0           796         3         5             4.6   \n",
       "57327                  1          1498         4         5             4.9   \n",
       "24703                  0          1197         4         5             4.8   \n",
       "40585                  1          1493         4         6             5.2   \n",
       "17527                  0           796         3         5             4.6   \n",
       "\n",
       "       length  width  height  gross_weight  is_front_fog_lights  \\\n",
       "24307    3445   1515    1475          1185                    0   \n",
       "57327    3995   1695    1501          1051                    1   \n",
       "24703    3845   1735    1530          1335                    1   \n",
       "40585    4300   1790    1635          1720                    1   \n",
       "17527    3445   1515    1475          1185                    0   \n",
       "\n",
       "       is_rear_window_wiper  is_rear_window_washer  is_rear_window_defogger  \\\n",
       "24307                     0                      0                        0   \n",
       "57327                     0                      0                        1   \n",
       "24703                     0                      0                        0   \n",
       "40585                     1                      1                        1   \n",
       "17527                     0                      0                        0   \n",
       "\n",
       "       is_brake_assist  is_power_door_locks  is_central_locking  \\\n",
       "24307                0                    0                   0   \n",
       "57327                0                    1                   1   \n",
       "24703                1                    1                   1   \n",
       "40585                1                    1                   1   \n",
       "17527                0                    0                   0   \n",
       "\n",
       "       is_power_steering  is_driver_seat_height_adjustable  \\\n",
       "24307                  1                                 0   \n",
       "57327                  1                                 1   \n",
       "24703                  1                                 1   \n",
       "40585                  1                                 1   \n",
       "17527                  1                                 0   \n",
       "\n",
       "       is_day_night_rear_view_mirror  is_ecw  is_speed_alert  ncap_rating  \\\n",
       "24307                              0       0               1            0   \n",
       "57327                              1       1               1            4   \n",
       "24703                              1       1               1            2   \n",
       "40585                              0       1               1            3   \n",
       "17527                              0       0               1            0   \n",
       "\n",
       "       area_cluster      make   segment     model  fuel_type  max_torque  \\\n",
       "24307      0.116440  0.012074 -0.060953 -0.037514  -0.053764   -0.037514   \n",
       "57327      0.104014 -0.029199 -0.010470 -0.029199   0.009051   -0.029199   \n",
       "24703      0.104014  0.012074  0.090258  0.076777   0.043882    0.083521   \n",
       "40585      0.116440 -0.007887 -0.007887 -0.007887   0.009051   -0.007887   \n",
       "17527     -0.105572  0.012074 -0.060953 -0.037514  -0.053764   -0.037514   \n",
       "\n",
       "       max_power  engine_type  rear_brakes_type  transmission_type  \\\n",
       "24307  -0.037514    -0.037514          0.002479           0.003574   \n",
       "57327  -0.029199    -0.029199          0.002479           0.003574   \n",
       "24703   0.083521     0.076777          0.002479           0.003574   \n",
       "40585  -0.007887    -0.007887         -0.007887          -0.006683   \n",
       "17527  -0.037514    -0.037514          0.002479           0.003574   \n",
       "\n",
       "       steering_type  \n",
       "24307      -0.040718  \n",
       "57327       0.054712  \n",
       "24703       0.054712  \n",
       "40585      -0.040718  \n",
       "17527      -0.040718  "
      ]
     },
     "execution_count": 37,
     "metadata": {},
     "output_type": "execute_result"
    }
   ],
   "source": [
    "x_test_final.head()"
   ]
  },
  {
   "cell_type": "code",
   "execution_count": 38,
   "id": "493233c5",
   "metadata": {
    "scrolled": false
   },
   "outputs": [
    {
     "data": {
      "text/html": [
       "<div>\n",
       "<style scoped>\n",
       "    .dataframe tbody tr th:only-of-type {\n",
       "        vertical-align: middle;\n",
       "    }\n",
       "\n",
       "    .dataframe tbody tr th {\n",
       "        vertical-align: top;\n",
       "    }\n",
       "\n",
       "    .dataframe thead th {\n",
       "        text-align: right;\n",
       "    }\n",
       "</style>\n",
       "<table border=\"1\" class=\"dataframe\">\n",
       "  <thead>\n",
       "    <tr style=\"text-align: right;\">\n",
       "      <th></th>\n",
       "      <th>policy_id</th>\n",
       "      <th>policy_tenure</th>\n",
       "      <th>age_of_car</th>\n",
       "      <th>age_of_policyholder</th>\n",
       "      <th>population_density</th>\n",
       "      <th>airbags</th>\n",
       "      <th>is_esc</th>\n",
       "      <th>is_adjustable_steering</th>\n",
       "      <th>is_tpms</th>\n",
       "      <th>is_parking_sensors</th>\n",
       "      <th>is_parking_camera</th>\n",
       "      <th>displacement</th>\n",
       "      <th>cylinder</th>\n",
       "      <th>gear_box</th>\n",
       "      <th>turning_radius</th>\n",
       "      <th>length</th>\n",
       "      <th>width</th>\n",
       "      <th>height</th>\n",
       "      <th>gross_weight</th>\n",
       "      <th>is_front_fog_lights</th>\n",
       "      <th>is_rear_window_wiper</th>\n",
       "      <th>is_rear_window_washer</th>\n",
       "      <th>is_rear_window_defogger</th>\n",
       "      <th>is_brake_assist</th>\n",
       "      <th>is_power_door_locks</th>\n",
       "      <th>is_central_locking</th>\n",
       "      <th>is_power_steering</th>\n",
       "      <th>is_driver_seat_height_adjustable</th>\n",
       "      <th>is_day_night_rear_view_mirror</th>\n",
       "      <th>is_ecw</th>\n",
       "      <th>is_speed_alert</th>\n",
       "      <th>ncap_rating</th>\n",
       "      <th>area_cluster</th>\n",
       "      <th>make</th>\n",
       "      <th>segment</th>\n",
       "      <th>model</th>\n",
       "      <th>fuel_type</th>\n",
       "      <th>max_torque</th>\n",
       "      <th>max_power</th>\n",
       "      <th>engine_type</th>\n",
       "      <th>rear_brakes_type</th>\n",
       "      <th>transmission_type</th>\n",
       "      <th>steering_type</th>\n",
       "    </tr>\n",
       "  </thead>\n",
       "  <tbody>\n",
       "    <tr>\n",
       "      <th>0</th>\n",
       "      <td>ID58593</td>\n",
       "      <td>0.341732</td>\n",
       "      <td>0.00</td>\n",
       "      <td>0.586538</td>\n",
       "      <td>4076</td>\n",
       "      <td>2</td>\n",
       "      <td>0</td>\n",
       "      <td>0</td>\n",
       "      <td>0</td>\n",
       "      <td>1</td>\n",
       "      <td>0</td>\n",
       "      <td>796</td>\n",
       "      <td>3</td>\n",
       "      <td>5</td>\n",
       "      <td>4.6</td>\n",
       "      <td>3445</td>\n",
       "      <td>1515</td>\n",
       "      <td>1475</td>\n",
       "      <td>1185</td>\n",
       "      <td>0</td>\n",
       "      <td>0</td>\n",
       "      <td>0</td>\n",
       "      <td>0</td>\n",
       "      <td>0</td>\n",
       "      <td>0</td>\n",
       "      <td>0</td>\n",
       "      <td>1</td>\n",
       "      <td>0</td>\n",
       "      <td>0</td>\n",
       "      <td>0</td>\n",
       "      <td>1</td>\n",
       "      <td>0</td>\n",
       "      <td>0.116440</td>\n",
       "      <td>0.012074</td>\n",
       "      <td>-0.060953</td>\n",
       "      <td>-0.037514</td>\n",
       "      <td>-0.053764</td>\n",
       "      <td>-0.037514</td>\n",
       "      <td>-0.037514</td>\n",
       "      <td>-0.037514</td>\n",
       "      <td>0.002479</td>\n",
       "      <td>0.003574</td>\n",
       "      <td>-0.040718</td>\n",
       "    </tr>\n",
       "    <tr>\n",
       "      <th>1</th>\n",
       "      <td>ID58594</td>\n",
       "      <td>0.307241</td>\n",
       "      <td>0.13</td>\n",
       "      <td>0.442308</td>\n",
       "      <td>8794</td>\n",
       "      <td>2</td>\n",
       "      <td>0</td>\n",
       "      <td>1</td>\n",
       "      <td>0</td>\n",
       "      <td>1</td>\n",
       "      <td>0</td>\n",
       "      <td>1197</td>\n",
       "      <td>4</td>\n",
       "      <td>5</td>\n",
       "      <td>4.8</td>\n",
       "      <td>3845</td>\n",
       "      <td>1735</td>\n",
       "      <td>1530</td>\n",
       "      <td>1335</td>\n",
       "      <td>1</td>\n",
       "      <td>0</td>\n",
       "      <td>0</td>\n",
       "      <td>0</td>\n",
       "      <td>1</td>\n",
       "      <td>1</td>\n",
       "      <td>1</td>\n",
       "      <td>1</td>\n",
       "      <td>1</td>\n",
       "      <td>1</td>\n",
       "      <td>1</td>\n",
       "      <td>1</td>\n",
       "      <td>2</td>\n",
       "      <td>0.104014</td>\n",
       "      <td>0.012074</td>\n",
       "      <td>0.090258</td>\n",
       "      <td>0.076777</td>\n",
       "      <td>0.043882</td>\n",
       "      <td>0.083521</td>\n",
       "      <td>0.083521</td>\n",
       "      <td>0.076777</td>\n",
       "      <td>0.002479</td>\n",
       "      <td>0.003574</td>\n",
       "      <td>0.054712</td>\n",
       "    </tr>\n",
       "    <tr>\n",
       "      <th>2</th>\n",
       "      <td>ID58595</td>\n",
       "      <td>0.327924</td>\n",
       "      <td>0.12</td>\n",
       "      <td>0.451923</td>\n",
       "      <td>8794</td>\n",
       "      <td>2</td>\n",
       "      <td>0</td>\n",
       "      <td>0</td>\n",
       "      <td>0</td>\n",
       "      <td>0</td>\n",
       "      <td>1</td>\n",
       "      <td>999</td>\n",
       "      <td>3</td>\n",
       "      <td>5</td>\n",
       "      <td>5.0</td>\n",
       "      <td>3731</td>\n",
       "      <td>1579</td>\n",
       "      <td>1490</td>\n",
       "      <td>1155</td>\n",
       "      <td>0</td>\n",
       "      <td>0</td>\n",
       "      <td>0</td>\n",
       "      <td>0</td>\n",
       "      <td>0</td>\n",
       "      <td>1</td>\n",
       "      <td>1</td>\n",
       "      <td>1</td>\n",
       "      <td>0</td>\n",
       "      <td>1</td>\n",
       "      <td>1</td>\n",
       "      <td>1</td>\n",
       "      <td>2</td>\n",
       "      <td>0.104014</td>\n",
       "      <td>-0.212061</td>\n",
       "      <td>-0.060953</td>\n",
       "      <td>-0.212061</td>\n",
       "      <td>0.043882</td>\n",
       "      <td>-0.212061</td>\n",
       "      <td>-0.212061</td>\n",
       "      <td>-0.212061</td>\n",
       "      <td>0.002479</td>\n",
       "      <td>-0.006683</td>\n",
       "      <td>0.054712</td>\n",
       "    </tr>\n",
       "    <tr>\n",
       "      <th>3</th>\n",
       "      <td>ID58596</td>\n",
       "      <td>0.782654</td>\n",
       "      <td>0.01</td>\n",
       "      <td>0.461538</td>\n",
       "      <td>34738</td>\n",
       "      <td>2</td>\n",
       "      <td>0</td>\n",
       "      <td>0</td>\n",
       "      <td>0</td>\n",
       "      <td>1</td>\n",
       "      <td>0</td>\n",
       "      <td>796</td>\n",
       "      <td>3</td>\n",
       "      <td>5</td>\n",
       "      <td>4.6</td>\n",
       "      <td>3445</td>\n",
       "      <td>1515</td>\n",
       "      <td>1475</td>\n",
       "      <td>1185</td>\n",
       "      <td>0</td>\n",
       "      <td>0</td>\n",
       "      <td>0</td>\n",
       "      <td>0</td>\n",
       "      <td>0</td>\n",
       "      <td>0</td>\n",
       "      <td>0</td>\n",
       "      <td>1</td>\n",
       "      <td>0</td>\n",
       "      <td>0</td>\n",
       "      <td>0</td>\n",
       "      <td>1</td>\n",
       "      <td>0</td>\n",
       "      <td>-0.095075</td>\n",
       "      <td>0.012074</td>\n",
       "      <td>-0.060953</td>\n",
       "      <td>-0.037514</td>\n",
       "      <td>-0.053764</td>\n",
       "      <td>-0.037514</td>\n",
       "      <td>-0.037514</td>\n",
       "      <td>-0.037514</td>\n",
       "      <td>0.002479</td>\n",
       "      <td>0.003574</td>\n",
       "      <td>-0.040718</td>\n",
       "    </tr>\n",
       "    <tr>\n",
       "      <th>4</th>\n",
       "      <td>ID58597</td>\n",
       "      <td>1.233404</td>\n",
       "      <td>0.02</td>\n",
       "      <td>0.634615</td>\n",
       "      <td>34738</td>\n",
       "      <td>2</td>\n",
       "      <td>0</td>\n",
       "      <td>0</td>\n",
       "      <td>0</td>\n",
       "      <td>1</td>\n",
       "      <td>0</td>\n",
       "      <td>796</td>\n",
       "      <td>3</td>\n",
       "      <td>5</td>\n",
       "      <td>4.6</td>\n",
       "      <td>3445</td>\n",
       "      <td>1515</td>\n",
       "      <td>1475</td>\n",
       "      <td>1185</td>\n",
       "      <td>0</td>\n",
       "      <td>0</td>\n",
       "      <td>0</td>\n",
       "      <td>0</td>\n",
       "      <td>0</td>\n",
       "      <td>0</td>\n",
       "      <td>0</td>\n",
       "      <td>1</td>\n",
       "      <td>0</td>\n",
       "      <td>0</td>\n",
       "      <td>0</td>\n",
       "      <td>1</td>\n",
       "      <td>0</td>\n",
       "      <td>-0.095075</td>\n",
       "      <td>0.012074</td>\n",
       "      <td>-0.060953</td>\n",
       "      <td>-0.037514</td>\n",
       "      <td>-0.053764</td>\n",
       "      <td>-0.037514</td>\n",
       "      <td>-0.037514</td>\n",
       "      <td>-0.037514</td>\n",
       "      <td>0.002479</td>\n",
       "      <td>0.003574</td>\n",
       "      <td>-0.040718</td>\n",
       "    </tr>\n",
       "  </tbody>\n",
       "</table>\n",
       "</div>"
      ],
      "text/plain": [
       "  policy_id  policy_tenure  age_of_car  age_of_policyholder  \\\n",
       "0   ID58593       0.341732        0.00             0.586538   \n",
       "1   ID58594       0.307241        0.13             0.442308   \n",
       "2   ID58595       0.327924        0.12             0.451923   \n",
       "3   ID58596       0.782654        0.01             0.461538   \n",
       "4   ID58597       1.233404        0.02             0.634615   \n",
       "\n",
       "   population_density  airbags  is_esc  is_adjustable_steering  is_tpms  \\\n",
       "0                4076        2       0                       0        0   \n",
       "1                8794        2       0                       1        0   \n",
       "2                8794        2       0                       0        0   \n",
       "3               34738        2       0                       0        0   \n",
       "4               34738        2       0                       0        0   \n",
       "\n",
       "   is_parking_sensors  is_parking_camera  displacement  cylinder  gear_box  \\\n",
       "0                   1                  0           796         3         5   \n",
       "1                   1                  0          1197         4         5   \n",
       "2                   0                  1           999         3         5   \n",
       "3                   1                  0           796         3         5   \n",
       "4                   1                  0           796         3         5   \n",
       "\n",
       "   turning_radius  length  width  height  gross_weight  is_front_fog_lights  \\\n",
       "0             4.6    3445   1515    1475          1185                    0   \n",
       "1             4.8    3845   1735    1530          1335                    1   \n",
       "2             5.0    3731   1579    1490          1155                    0   \n",
       "3             4.6    3445   1515    1475          1185                    0   \n",
       "4             4.6    3445   1515    1475          1185                    0   \n",
       "\n",
       "   is_rear_window_wiper  is_rear_window_washer  is_rear_window_defogger  \\\n",
       "0                     0                      0                        0   \n",
       "1                     0                      0                        0   \n",
       "2                     0                      0                        0   \n",
       "3                     0                      0                        0   \n",
       "4                     0                      0                        0   \n",
       "\n",
       "   is_brake_assist  is_power_door_locks  is_central_locking  \\\n",
       "0                0                    0                   0   \n",
       "1                1                    1                   1   \n",
       "2                0                    1                   1   \n",
       "3                0                    0                   0   \n",
       "4                0                    0                   0   \n",
       "\n",
       "   is_power_steering  is_driver_seat_height_adjustable  \\\n",
       "0                  1                                 0   \n",
       "1                  1                                 1   \n",
       "2                  1                                 0   \n",
       "3                  1                                 0   \n",
       "4                  1                                 0   \n",
       "\n",
       "   is_day_night_rear_view_mirror  is_ecw  is_speed_alert  ncap_rating  \\\n",
       "0                              0       0               1            0   \n",
       "1                              1       1               1            2   \n",
       "2                              1       1               1            2   \n",
       "3                              0       0               1            0   \n",
       "4                              0       0               1            0   \n",
       "\n",
       "   area_cluster      make   segment     model  fuel_type  max_torque  \\\n",
       "0      0.116440  0.012074 -0.060953 -0.037514  -0.053764   -0.037514   \n",
       "1      0.104014  0.012074  0.090258  0.076777   0.043882    0.083521   \n",
       "2      0.104014 -0.212061 -0.060953 -0.212061   0.043882   -0.212061   \n",
       "3     -0.095075  0.012074 -0.060953 -0.037514  -0.053764   -0.037514   \n",
       "4     -0.095075  0.012074 -0.060953 -0.037514  -0.053764   -0.037514   \n",
       "\n",
       "   max_power  engine_type  rear_brakes_type  transmission_type  steering_type  \n",
       "0  -0.037514    -0.037514          0.002479           0.003574      -0.040718  \n",
       "1   0.083521     0.076777          0.002479           0.003574       0.054712  \n",
       "2  -0.212061    -0.212061          0.002479          -0.006683       0.054712  \n",
       "3  -0.037514    -0.037514          0.002479           0.003574      -0.040718  \n",
       "4  -0.037514    -0.037514          0.002479           0.003574      -0.040718  "
      ]
     },
     "execution_count": 38,
     "metadata": {},
     "output_type": "execute_result"
    }
   ],
   "source": [
    "oot_final.head()"
   ]
  },
  {
   "cell_type": "markdown",
   "id": "ff52c81b",
   "metadata": {},
   "source": [
    "### Feature Selection"
   ]
  },
  {
   "cell_type": "code",
   "execution_count": 39,
   "id": "69c2b0e1",
   "metadata": {},
   "outputs": [],
   "source": [
    "#x_train_final.corr()"
   ]
  },
  {
   "cell_type": "code",
   "execution_count": 40,
   "id": "8c0143e0",
   "metadata": {
    "scrolled": false
   },
   "outputs": [],
   "source": [
    "# rfe = RFE(estimator = RandomForestClassifier(class_weight = 'balanced'), n_features_to_select = 10)\n",
    "\n",
    "# pipe = Pipeline([('rfe',rfe)])\n",
    "# transformed_df_rfe = pipe.fit_transform(x_train_final, y_train)\n",
    "# support = pipe.named_steps['rfe'].support_\n",
    "# drop_cols_rfe = list(x_train_final.columns[support])"
   ]
  },
  {
   "cell_type": "code",
   "execution_count": 41,
   "id": "069f674d",
   "metadata": {
    "scrolled": true
   },
   "outputs": [],
   "source": [
    "# drop_cols_rfe"
   ]
  },
  {
   "cell_type": "code",
   "execution_count": 42,
   "id": "7041270c",
   "metadata": {},
   "outputs": [],
   "source": [
    "# # highly multicolinear variables\n",
    "# cols_to_drop = ['is_rear_window_wiper', 'is_rear_window_washer', 'is_rear_window_defogger',\n",
    "#                'gear_box', 'is_tpms', 'is_esc', 'cylinder', 'engine_type', 'max_torque', 'max_power']"
   ]
  },
  {
   "cell_type": "code",
   "execution_count": 43,
   "id": "6154cc96",
   "metadata": {},
   "outputs": [],
   "source": [
    "# x_train_final.drop(columns = cols_to_drop, inplace = True)\n",
    "# x_test_final.drop(columns = cols_to_drop, inplace = True)\n",
    "# oot_final.drop(columns = cols_to_drop, inplace = True)"
   ]
  },
  {
   "cell_type": "markdown",
   "id": "a98215a1",
   "metadata": {},
   "source": [
    "### Model building"
   ]
  },
  {
   "cell_type": "code",
   "execution_count": 44,
   "id": "6dd7df8c",
   "metadata": {},
   "outputs": [],
   "source": [
    "# fit_params={\"early_stopping_rounds\": 30, \n",
    "#             \"eval_metric\" : 'f1', \n",
    "#             \"eval_set\" : [(x_test_final,y_test)],\n",
    "#             'eval_names': ['valid'],\n",
    "#             'verbose': 100}"
   ]
  },
  {
   "cell_type": "code",
   "execution_count": 45,
   "id": "28397fbe",
   "metadata": {},
   "outputs": [],
   "source": [
    "param_space ={'num_leaves': [8, 12, 16, 20, 25],  \n",
    "             'subsample': [0.5, 0.7, 0.9], \n",
    "             'colsample_bytree': [0.4, 0.5, 0.6, 0.7, 0.8],\n",
    "             'reg_alpha': [0, 1e-1, 1, 5, 7, 10, 50],\n",
    "             'reg_lambda': [0, 1e-1, 1, 5, 10, 50],\n",
    "             'learning_rate': [0.015, 0.02, 0.03, 0.05, 0.07, 0.1, 0.2, 0.3],\n",
    "             'n_estimators': [100, 120, 140, 150]}"
   ]
  },
  {
   "cell_type": "code",
   "execution_count": 46,
   "id": "e98e9d56",
   "metadata": {},
   "outputs": [],
   "source": [
    "lgbm = LGBMClassifier(objective = 'binary', is_unbalance = True, random_state = 1)"
   ]
  },
  {
   "cell_type": "code",
   "execution_count": 47,
   "id": "bd72d637",
   "metadata": {
    "scrolled": true
   },
   "outputs": [
    {
     "name": "stdout",
     "output_type": "stream",
     "text": [
      "Fitting 3 folds for each of 100 candidates, totalling 300 fits\n"
     ]
    },
    {
     "data": {
      "text/plain": [
       "RandomizedSearchCV(cv=3,\n",
       "                   estimator=LGBMClassifier(is_unbalance=True,\n",
       "                                            objective='binary',\n",
       "                                            random_state=1),\n",
       "                   n_iter=100,\n",
       "                   param_distributions={'colsample_bytree': [0.4, 0.5, 0.6, 0.7,\n",
       "                                                             0.8],\n",
       "                                        'learning_rate': [0.015, 0.02, 0.03,\n",
       "                                                          0.05, 0.07, 0.1, 0.2,\n",
       "                                                          0.3],\n",
       "                                        'n_estimators': [100, 120, 140, 150],\n",
       "                                        'num_leaves': [8, 12, 16, 20, 25],\n",
       "                                        'reg_alpha': [0, 0.1, 1, 5, 7, 10, 50],\n",
       "                                        'reg_lambda': [0, 0.1, 1, 5, 10, 50],\n",
       "                                        'subsample': [0.5, 0.7, 0.9]},\n",
       "                   random_state=1, scoring='f1', verbose=True)"
      ]
     },
     "execution_count": 47,
     "metadata": {},
     "output_type": "execute_result"
    }
   ],
   "source": [
    "search = RandomizedSearchCV(estimator = lgbm, param_distributions = param_space, n_iter = 100,\n",
    "                            scoring ='f1', cv=3, random_state = 1, verbose = True)\n",
    "search.fit(x_train_final, y_train)"
   ]
  },
  {
   "cell_type": "code",
   "execution_count": 50,
   "id": "331fddf7",
   "metadata": {},
   "outputs": [
    {
     "data": {
      "text/plain": [
       "0.17109874054154486"
      ]
     },
     "execution_count": 50,
     "metadata": {},
     "output_type": "execute_result"
    }
   ],
   "source": [
    "search.best_score_"
   ]
  },
  {
   "cell_type": "code",
   "execution_count": 51,
   "id": "ebae4795",
   "metadata": {},
   "outputs": [
    {
     "data": {
      "text/plain": [
       "{'subsample': 0.5,\n",
       " 'reg_lambda': 1,\n",
       " 'reg_alpha': 7,\n",
       " 'num_leaves': 20,\n",
       " 'n_estimators': 120,\n",
       " 'learning_rate': 0.02,\n",
       " 'colsample_bytree': 0.4}"
      ]
     },
     "execution_count": 51,
     "metadata": {},
     "output_type": "execute_result"
    }
   ],
   "source": [
    "search.best_params_"
   ]
  },
  {
   "cell_type": "code",
   "execution_count": 52,
   "id": "bfb6822e",
   "metadata": {},
   "outputs": [],
   "source": [
    "lgbm_best = LGBMClassifier(objective = 'binary',\n",
    "                           colsample_bytree = 0.4,\n",
    "                           subsample = 0.5,\n",
    "                           is_unbalance = True,\n",
    "                          learning_rate = 0.02,\n",
    "                          num_leaves = 15,\n",
    "                           max_depth = 5,\n",
    "                           reg_lambda = 1,\n",
    "                           reg_alpha = 7,\n",
    "                           n_estimators = 100,\n",
    "                          random_state = 1)"
   ]
  },
  {
   "cell_type": "code",
   "execution_count": 53,
   "id": "a7db4084",
   "metadata": {},
   "outputs": [
    {
     "data": {
      "text/plain": [
       "LGBMClassifier(colsample_bytree=0.4, is_unbalance=True, learning_rate=0.02,\n",
       "               max_depth=5, num_leaves=15, objective='binary', random_state=1,\n",
       "               reg_alpha=7, reg_lambda=1, subsample=0.5)"
      ]
     },
     "execution_count": 53,
     "metadata": {},
     "output_type": "execute_result"
    }
   ],
   "source": [
    "lgbm_best.fit(x_train_final, y_train)"
   ]
  },
  {
   "cell_type": "code",
   "execution_count": 54,
   "id": "09173a96",
   "metadata": {
    "scrolled": true
   },
   "outputs": [
    {
     "name": "stdout",
     "output_type": "stream",
     "text": [
      "              precision    recall  f1-score   support\n",
      "\n",
      "           0      0.952     0.781     0.858      5485\n",
      "           1      0.117     0.427     0.184       375\n",
      "\n",
      "    accuracy                          0.758      5860\n",
      "   macro avg      0.535     0.604     0.521      5860\n",
      "weighted avg      0.899     0.758     0.815      5860\n",
      "\n"
     ]
    }
   ],
   "source": [
    "y_pred = lgbm_best.predict(x_test_final)\n",
    "print(classification_report(y_test, y_pred, digits = 3))"
   ]
  },
  {
   "cell_type": "code",
   "execution_count": 55,
   "id": "7fac4e7e",
   "metadata": {},
   "outputs": [
    {
     "data": {
      "text/plain": [
       "<sklearn.metrics._plot.confusion_matrix.ConfusionMatrixDisplay at 0x2afdce780c8>"
      ]
     },
     "execution_count": 55,
     "metadata": {},
     "output_type": "execute_result"
    },
    {
     "data": {
      "image/png": "[encoded data removed]",
      "text/plain": [
       "<Figure size 432x288 with 2 Axes>"
      ]
     },
     "metadata": {
      "needs_background": "light"
     },
     "output_type": "display_data"
    }
   ],
   "source": [
    "ConfusionMatrixDisplay.from_predictions(y_test, y_pred)"
   ]
  },
  {
   "cell_type": "markdown",
   "id": "5e670288",
   "metadata": {},
   "source": [
    "### Submission file"
   ]
  },
  {
   "cell_type": "code",
   "execution_count": 57,
   "id": "6aec9528",
   "metadata": {},
   "outputs": [],
   "source": [
    "submission = pd.read_csv('sample_submission_KvRh9Sx.csv')"
   ]
  },
  {
   "cell_type": "code",
   "execution_count": 58,
   "id": "c0c64bd5",
   "metadata": {
    "scrolled": false
   },
   "outputs": [
    {
     "data": {
      "text/html": [
       "<div>\n",
       "<style scoped>\n",
       "    .dataframe tbody tr th:only-of-type {\n",
       "        vertical-align: middle;\n",
       "    }\n",
       "\n",
       "    .dataframe tbody tr th {\n",
       "        vertical-align: top;\n",
       "    }\n",
       "\n",
       "    .dataframe thead th {\n",
       "        text-align: right;\n",
       "    }\n",
       "</style>\n",
       "<table border=\"1\" class=\"dataframe\">\n",
       "  <thead>\n",
       "    <tr style=\"text-align: right;\">\n",
       "      <th></th>\n",
       "      <th>policy_id</th>\n",
       "      <th>is_claim</th>\n",
       "    </tr>\n",
       "  </thead>\n",
       "  <tbody>\n",
       "    <tr>\n",
       "      <th>0</th>\n",
       "      <td>ID58593</td>\n",
       "      <td>1</td>\n",
       "    </tr>\n",
       "    <tr>\n",
       "      <th>1</th>\n",
       "      <td>ID58594</td>\n",
       "      <td>1</td>\n",
       "    </tr>\n",
       "    <tr>\n",
       "      <th>2</th>\n",
       "      <td>ID58595</td>\n",
       "      <td>1</td>\n",
       "    </tr>\n",
       "    <tr>\n",
       "      <th>3</th>\n",
       "      <td>ID58596</td>\n",
       "      <td>1</td>\n",
       "    </tr>\n",
       "    <tr>\n",
       "      <th>4</th>\n",
       "      <td>ID58597</td>\n",
       "      <td>1</td>\n",
       "    </tr>\n",
       "  </tbody>\n",
       "</table>\n",
       "</div>"
      ],
      "text/plain": [
       "  policy_id  is_claim\n",
       "0   ID58593         1\n",
       "1   ID58594         1\n",
       "2   ID58595         1\n",
       "3   ID58596         1\n",
       "4   ID58597         1"
      ]
     },
     "execution_count": 58,
     "metadata": {},
     "output_type": "execute_result"
    }
   ],
   "source": [
    "submission.head()"
   ]
  },
  {
   "cell_type": "code",
   "execution_count": 59,
   "id": "6a76b6a0",
   "metadata": {
    "scrolled": true
   },
   "outputs": [
    {
     "data": {
      "text/plain": [
       "(39063, 42)"
      ]
     },
     "execution_count": 59,
     "metadata": {},
     "output_type": "execute_result"
    }
   ],
   "source": [
    "oot_final.drop(columns = ['policy_id']).shape"
   ]
  },
  {
   "cell_type": "code",
   "execution_count": 60,
   "id": "523db84f",
   "metadata": {},
   "outputs": [
    {
     "data": {
      "text/plain": [
       "(58592, 42)"
      ]
     },
     "execution_count": 60,
     "metadata": {},
     "output_type": "execute_result"
    }
   ],
   "source": [
    "train_feature = pd.concat([x_train_final, x_test_final], axis = 0)\n",
    "train_target = pd.concat([y_train, y_test], axis = 0)\n",
    "train_feature.shape"
   ]
  },
  {
   "cell_type": "code",
   "execution_count": 61,
   "id": "da6d0ccb",
   "metadata": {
    "scrolled": true
   },
   "outputs": [
    {
     "data": {
      "text/plain": [
       "LGBMClassifier(colsample_bytree=0.4, is_unbalance=True, learning_rate=0.02,\n",
       "               max_depth=5, num_leaves=15, objective='binary', random_state=1,\n",
       "               reg_alpha=7, reg_lambda=1, subsample=0.5)"
      ]
     },
     "execution_count": 61,
     "metadata": {},
     "output_type": "execute_result"
    }
   ],
   "source": [
    "lgbm_best.fit(train_feature, train_target)"
   ]
  },
  {
   "cell_type": "code",
   "execution_count": 62,
   "id": "a12d9f2c",
   "metadata": {
    "scrolled": true
   },
   "outputs": [
    {
     "data": {
      "text/plain": [
       "9022"
      ]
     },
     "execution_count": 62,
     "metadata": {},
     "output_type": "execute_result"
    }
   ],
   "source": [
    "oot_pred = lgbm_best.predict(oot_final.drop(columns = ['policy_id']))\n",
    "oot_pred.sum()"
   ]
  },
  {
   "cell_type": "code",
   "execution_count": 63,
   "id": "81e02e49",
   "metadata": {},
   "outputs": [],
   "source": [
    "submission['is_claim'] = oot_pred"
   ]
  },
  {
   "cell_type": "code",
   "execution_count": 64,
   "id": "c012054f",
   "metadata": {},
   "outputs": [
    {
     "data": {
      "text/html": [
       "<div>\n",
       "<style scoped>\n",
       "    .dataframe tbody tr th:only-of-type {\n",
       "        vertical-align: middle;\n",
       "    }\n",
       "\n",
       "    .dataframe tbody tr th {\n",
       "        vertical-align: top;\n",
       "    }\n",
       "\n",
       "    .dataframe thead th {\n",
       "        text-align: right;\n",
       "    }\n",
       "</style>\n",
       "<table border=\"1\" class=\"dataframe\">\n",
       "  <thead>\n",
       "    <tr style=\"text-align: right;\">\n",
       "      <th></th>\n",
       "      <th>policy_id</th>\n",
       "      <th>is_claim</th>\n",
       "    </tr>\n",
       "  </thead>\n",
       "  <tbody>\n",
       "    <tr>\n",
       "      <th>0</th>\n",
       "      <td>ID58593</td>\n",
       "      <td>1</td>\n",
       "    </tr>\n",
       "    <tr>\n",
       "      <th>1</th>\n",
       "      <td>ID58594</td>\n",
       "      <td>0</td>\n",
       "    </tr>\n",
       "    <tr>\n",
       "      <th>2</th>\n",
       "      <td>ID58595</td>\n",
       "      <td>0</td>\n",
       "    </tr>\n",
       "    <tr>\n",
       "      <th>3</th>\n",
       "      <td>ID58596</td>\n",
       "      <td>0</td>\n",
       "    </tr>\n",
       "    <tr>\n",
       "      <th>4</th>\n",
       "      <td>ID58597</td>\n",
       "      <td>0</td>\n",
       "    </tr>\n",
       "  </tbody>\n",
       "</table>\n",
       "</div>"
      ],
      "text/plain": [
       "  policy_id  is_claim\n",
       "0   ID58593         1\n",
       "1   ID58594         0\n",
       "2   ID58595         0\n",
       "3   ID58596         0\n",
       "4   ID58597         0"
      ]
     },
     "execution_count": 64,
     "metadata": {},
     "output_type": "execute_result"
    }
   ],
   "source": [
    "submission.head()"
   ]
  },
  {
   "cell_type": "code",
   "execution_count": 65,
   "id": "20b5226c",
   "metadata": {},
   "outputs": [
    {
     "data": {
      "text/plain": [
       "0    0.76904\n",
       "1    0.23096\n",
       "Name: is_claim, dtype: float64"
      ]
     },
     "execution_count": 65,
     "metadata": {},
     "output_type": "execute_result"
    }
   ],
   "source": [
    "submission['is_claim'].value_counts(normalize = True)"
   ]
  },
  {
   "cell_type": "code",
   "execution_count": 66,
   "id": "f3dfdd78",
   "metadata": {},
   "outputs": [],
   "source": [
    "submission.to_csv('submission.csv', index = False)"
   ]
  }
 ],
 "metadata": {
  "kernelspec": {
   "display_name": "Python 3",
   "language": "python",
   "name": "python3"
  },
  "language_info": {
   "codemirror_mode": {
    "name": "ipython",
    "version": 3
   },
   "file_extension": ".py",
   "mimetype": "text/x-python",
   "name": "python",
   "nbconvert_exporter": "python",
   "pygments_lexer": "ipython3",
   "version": "3.7.4"
  }
 },
 "nbformat": 4,
 "nbformat_minor": 5
}
